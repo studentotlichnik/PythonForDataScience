{
 "cells": [
  {
   "cell_type": "code",
   "execution_count": 4,
   "metadata": {},
   "outputs": [],
   "source": [
    "import numpy as np\n",
    "import math\n",
    "import itertools\n",
    "import matplotlib.pyplot as plt\n",
    "import scipy.linalg\n",
    "import warnings\n",
    "%matplotlib inline\n",
    "warnings.filterwarnings('ignore')"
   ]
  },
  {
   "cell_type": "code",
   "execution_count": 40,
   "metadata": {},
   "outputs": [
    {
     "data": {
      "text/plain": [
       "59.999999999999986"
      ]
     },
     "execution_count": 40,
     "metadata": {},
     "output_type": "execute_result"
    }
   ],
   "source": [
    "#1. Решите линейную систему:\n",
    "A=np.array([[1,2,3],[4,0,6],[7,8,9]])\n",
    "B=np.array([12,2,1])\n",
    "np.linalg.det(A)"
   ]
  },
  {
   "cell_type": "code",
   "execution_count": 41,
   "metadata": {},
   "outputs": [
    {
     "data": {
      "text/plain": [
       "array([-9.2       ,  0.9       ,  6.46666667])"
      ]
     },
     "execution_count": 41,
     "metadata": {},
     "output_type": "execute_result"
    }
   ],
   "source": [
    "np.linalg.solve(A,B)"
   ]
  },
  {
   "cell_type": "code",
   "execution_count": 38,
   "metadata": {},
   "outputs": [
    {
     "data": {
      "text/plain": [
       "(array([ 1.13919353, -0.90498444, -0.9009803 ]),\n",
       " array([0.71523211]),\n",
       " 3,\n",
       " array([15.2817306 ,  9.59852942,  3.65197794]))"
      ]
     },
     "execution_count": 38,
     "metadata": {},
     "output_type": "execute_result"
    }
   ],
   "source": [
    "#2. Найдите псевдорешение:\n",
    "A=np.array([[1,2,-1],[3,-4,0],[8,-5,2],[2,0,-5],[11,4,-7]])\n",
    "B=np.array([1,7,12,7,15])\n",
    "np.linalg.lstsq(A,B)"
   ]
  },
  {
   "cell_type": "code",
   "execution_count": 30,
   "metadata": {},
   "outputs": [
    {
     "data": {
      "text/plain": [
       "array([-4.05323966e+16,  8.10647933e+16, -4.05323966e+16])"
      ]
     },
     "execution_count": 30,
     "metadata": {},
     "output_type": "execute_result"
    }
   ],
   "source": [
    "#3. Сколько решений имеет линейная система:\n",
    "#Если ноль – то измените вектор правой части так, чтобы система стала совместной, и решите ее. \n",
    "A=np.array([[1,2,3],[4,5,6],[7,8,9]])\n",
    "B=np.array([12,2,1])\n",
    "np.linalg.solve(A,B)"
   ]
  },
  {
   "cell_type": "code",
   "execution_count": 31,
   "metadata": {},
   "outputs": [
    {
     "data": {
      "text/plain": [
       "(array([-7.69444444, -0.61111111,  6.47222222]),\n",
       " array([], dtype=float64),\n",
       " 2,\n",
       " array([1.68481034e+01, 1.06836951e+00, 1.47280825e-16]))"
      ]
     },
     "execution_count": 31,
     "metadata": {},
     "output_type": "execute_result"
    }
   ],
   "source": [
    "np.linalg.lstsq(A,B)"
   ]
  },
  {
   "cell_type": "code",
   "execution_count": 36,
   "metadata": {},
   "outputs": [
    {
     "data": {
      "text/plain": [
       "array([0., 0., 0.])"
      ]
     },
     "execution_count": 36,
     "metadata": {},
     "output_type": "execute_result"
    }
   ],
   "source": [
    "B=np.array([0,0,0])\n",
    "np.linalg.solve(A,B)"
   ]
  },
  {
   "cell_type": "code",
   "execution_count": 5,
   "metadata": {},
   "outputs": [
    {
     "name": "stdout",
     "output_type": "stream",
     "text": [
      "[[0. 1. 0.]\n",
      " [0. 0. 1.]\n",
      " [1. 0. 0.]]\n",
      "[[ 1.    0.    0.  ]\n",
      " [ 0.25  1.    0.  ]\n",
      " [ 0.5  -0.4   1.  ]]\n",
      "[[  4.    28.    73.  ]\n",
      " [  0.    -5.   -15.25]\n",
      " [  0.     0.   -21.6 ]]\n",
      "[[ -2. -12. -52.]\n",
      " [  3.  26.  70.]\n",
      " [ -1. -14. -18.]]\n"
     ]
    }
   ],
   "source": [
    "#4. Вычислите LU-разложение матрицы:\n",
    "A=np.array([[1,2,3],[2,16,21],[4,28,73]])\n",
    "P,L,U=scipy.linalg.lu(A)\n",
    "print(P)\n",
    "print(L)\n",
    "print(U)\n",
    "print(np.dot(P,A)-np.dot(L,U))"
   ]
  },
  {
   "cell_type": "code",
   "execution_count": 8,
   "metadata": {},
   "outputs": [
    {
     "data": {
      "text/plain": [
       "array([ 1., -0., -0.])"
      ]
     },
     "execution_count": 8,
     "metadata": {},
     "output_type": "execute_result"
    }
   ],
   "source": [
    "#После этого придумайте вектор правых частей и решите полученную линейную систему трех уравнений с данной матрицей.\n",
    "B=np.array([1,2,4])\n",
    "np.linalg.solve(A,B)"
   ]
  },
  {
   "cell_type": "code",
   "execution_count": 13,
   "metadata": {},
   "outputs": [
    {
     "data": {
      "image/png": "[encoded data removed]",
      "text/plain": [
       "<Figure size 432x288 with 1 Axes>"
      ]
     },
     "metadata": {
      "needs_background": "light"
     },
     "output_type": "display_data"
    }
   ],
   "source": [
    "#5. Найдите нормальное псевдорешение недоопределенной системы:\n",
    "#Для этого определите функцию Q(x,y,z), равную норме решения, и найдите ее минимум. \n",
    "#Чтобы найти нормальное псевдорешение - нужно минимизировать норму вектора.\n",
    "def Q(x,y,z):\n",
    "    return ((2+1/7+z/21)**2+(-12/21+10*z/21)**2+z**2)\n",
    "\n",
    "x=np.linspace(-0.5,1,201)\n",
    "plt.plot(x,Q(0,0,x))\n",
    "plt.xlabel('z')\n",
    "plt.grid(True)\n",
    "plt.show()"
   ]
  },
  {
   "cell_type": "code",
   "execution_count": 24,
   "metadata": {},
   "outputs": [
    {
     "data": {
      "text/plain": [
       "4.894837188208617"
      ]
     },
     "execution_count": 24,
     "metadata": {},
     "output_type": "execute_result"
    }
   ],
   "source": [
    "#Минимум нормы вектора\n",
    "z=Q(0,0,0.14)\n",
    "z"
   ]
  },
  {
   "cell_type": "code",
   "execution_count": 25,
   "metadata": {},
   "outputs": [
    {
     "data": {
      "text/plain": [
       "(2.375944628009934, 1.7594462800993413, 4.894837188208617)"
      ]
     },
     "execution_count": 25,
     "metadata": {},
     "output_type": "execute_result"
    }
   ],
   "source": [
    "#Нормальное псевдорешение\n",
    "x=(2+1/7+z/21, -12/21+10*z/21, z)\n",
    "x"
   ]
  },
  {
   "cell_type": "code",
   "execution_count": 26,
   "metadata": {},
   "outputs": [
    {
     "name": "stdout",
     "output_type": "stream",
     "text": [
      "[[1 2 3]\n",
      " [4 5 6]\n",
      " [7 8 9]]\n",
      "[[-0.12309149  0.90453403  0.40824829]\n",
      " [-0.49236596  0.30151134 -0.81649658]\n",
      " [-0.86164044 -0.30151134  0.40824829]]\n",
      "[[-8.12403840e+00 -9.60113630e+00 -1.10782342e+01]\n",
      " [ 0.00000000e+00  9.04534034e-01  1.80906807e+00]\n",
      " [ 0.00000000e+00  0.00000000e+00 -1.77635684e-15]]\n"
     ]
    }
   ],
   "source": [
    "#6. Найдите одно из псевдорешений вырожденной системы:\n",
    "A=np.array([[1,2,3],[4,5,6],[7,8,9]])\n",
    "B=np.array([2,5,11])\n",
    "Q,R=np.linalg.qr(A)\n",
    "print(A)\n",
    "print(Q)\n",
    "print(R)"
   ]
  },
  {
   "cell_type": "code",
   "execution_count": 27,
   "metadata": {},
   "outputs": [
    {
     "name": "stdout",
     "output_type": "stream",
     "text": [
      "[[1. 2. 3.]\n",
      " [4. 5. 6.]\n",
      " [7. 8. 9.]]\n",
      "[[ 1.00000000e+00 -5.55111512e-16 -2.77555756e-16]\n",
      " [-5.55111512e-16  1.00000000e+00  5.68989300e-16]\n",
      " [-2.77555756e-16  5.68989300e-16  1.00000000e+00]]\n"
     ]
    }
   ],
   "source": [
    "print(np.dot(Q,R))\n",
    "print(np.dot(np.transpose(Q),Q))"
   ]
  },
  {
   "cell_type": "code",
   "execution_count": 29,
   "metadata": {},
   "outputs": [
    {
     "data": {
      "text/plain": [
       "1.2247448713915894"
      ]
     },
     "execution_count": 29,
     "metadata": {},
     "output_type": "execute_result"
    }
   ],
   "source": [
    "#Попробуйте также отыскать и нормальное псевдорешение.\n",
    "R1=R[:2,:2]\n",
    "B1=np.dot(np.transpose(Q),B)[:2]\n",
    "X1=np.linalg.solve(R1,B1)\n",
    "X=np.append(X1,0)\n",
    "np.linalg.norm(X)\n",
    "np.linalg.norm(np.dot(A,X)-B)"
   ]
  },
  {
   "cell_type": "code",
   "execution_count": null,
   "metadata": {},
   "outputs": [],
   "source": []
  }
 ],
 "metadata": {
  "kernelspec": {
   "display_name": "Python 3",
   "language": "python",
   "name": "python3"
  },
  "language_info": {
   "codemirror_mode": {
    "name": "ipython",
    "version": 3
   },
   "file_extension": ".py",
   "mimetype": "text/x-python",
   "name": "python",
   "nbconvert_exporter": "python",
   "pygments_lexer": "ipython3",
   "version": "3.7.3"
  }
 },
 "nbformat": 4,
 "nbformat_minor": 2
}
