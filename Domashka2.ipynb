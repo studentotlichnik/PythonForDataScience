{
 "cells": [
  {
   "cell_type": "code",
   "execution_count": 25,
   "metadata": {},
   "outputs": [],
   "source": [
    "import numpy as np\n",
    "import itertools"
   ]
  },
  {
   "cell_type": "code",
   "execution_count": 15,
   "metadata": {},
   "outputs": [
    {
     "data": {
      "text/plain": [
       "{20, 40, 60}"
      ]
     },
     "execution_count": 15,
     "metadata": {},
     "output_type": "execute_result"
    }
   ],
   "source": [
    "a=set([20,40,60])\n",
    "a"
   ]
  },
  {
   "cell_type": "code",
   "execution_count": 16,
   "metadata": {},
   "outputs": [
    {
     "data": {
      "text/plain": [
       "{30, 40, 50}"
      ]
     },
     "execution_count": 16,
     "metadata": {},
     "output_type": "execute_result"
    }
   ],
   "source": [
    "b=set([30,40,50])\n",
    "b"
   ]
  },
  {
   "cell_type": "code",
   "execution_count": 17,
   "metadata": {},
   "outputs": [
    {
     "data": {
      "text/plain": [
       "{20, 30, 70}"
      ]
     },
     "execution_count": 17,
     "metadata": {},
     "output_type": "execute_result"
    }
   ],
   "source": [
    "c=set([20,30,70])\n",
    "c"
   ]
  },
  {
   "cell_type": "code",
   "execution_count": 18,
   "metadata": {},
   "outputs": [
    {
     "data": {
      "text/plain": [
       "{10, 20, 30, 40, 50, 60, 70, 80, 90}"
      ]
     },
     "execution_count": 18,
     "metadata": {},
     "output_type": "execute_result"
    }
   ],
   "source": [
    "u=set([10,20,30,40,50,60,70,80,90])\n",
    "u"
   ]
  },
  {
   "cell_type": "code",
   "execution_count": 20,
   "metadata": {},
   "outputs": [
    {
     "name": "stdout",
     "output_type": "stream",
     "text": [
      "Пересечение A и B: {40}\n",
      "Пересечение A и C: {20}\n",
      "Пересечение B и C: {30}\n",
      "Пересечение A, B и C: set()\n"
     ]
    }
   ],
   "source": [
    "#Выполним все изученные виды бинарных операций над всеми комбинациями множеств\n",
    "#Пересечение\n",
    "print('Пересечение A и B:',a&b)\n",
    "print('Пересечение A и C:',a&c)\n",
    "print('Пересечение B и C:',b&c)\n",
    "print('Пересечение A, B и C:',a&b&c)"
   ]
  },
  {
   "cell_type": "code",
   "execution_count": 21,
   "metadata": {},
   "outputs": [
    {
     "name": "stdout",
     "output_type": "stream",
     "text": [
      "Объединение A и B: {50, 20, 40, 60, 30}\n",
      "Объединение A и C: {20, 70, 40, 60, 30}\n",
      "Объединение B и C: {50, 20, 70, 40, 30}\n",
      "Объединение A, B и C: {50, 20, 70, 40, 60, 30}\n"
     ]
    }
   ],
   "source": [
    "#Объединение\n",
    "print('Объединение A и B:',a|b)\n",
    "print('Объединение A и C:',a|c)\n",
    "print('Объединение B и C:',b|c)\n",
    "print('Объединение A, B и C:',a|b|c)"
   ]
  },
  {
   "cell_type": "code",
   "execution_count": 22,
   "metadata": {},
   "outputs": [
    {
     "name": "stdout",
     "output_type": "stream",
     "text": [
      "Разность A и B: {20, 60}\n",
      "Разность B и A: {50, 30}\n",
      "Разность A и C: {40, 60}\n",
      "Разность C и A: {70, 30}\n",
      "Разность B и C: {40, 50}\n",
      "Разность C и B: {20, 70}\n",
      "Разность A, B и C: {60}\n",
      "Разность A, C и B: {60}\n",
      "Разность B, A и C: {50}\n",
      "Разность B, C и A: {50}\n",
      "Разность C, A и B: {70}\n",
      "Разность C, B и A: {70}\n"
     ]
    }
   ],
   "source": [
    "#Разность множеств\n",
    "print('Разность A и B:',a-b)\n",
    "print('Разность B и A:',b-a)\n",
    "print('Разность A и C:',a-c)\n",
    "print('Разность C и A:',c-a)\n",
    "print('Разность B и C:',b-c)\n",
    "print('Разность C и B:',c-b)\n",
    "print('Разность A, B и C:',a-b-c)\n",
    "print('Разность A, C и B:',a-c-b)\n",
    "print('Разность B, A и C:',b-a-c)\n",
    "print('Разность B, C и A:',b-c-a)\n",
    "print('Разность C, A и B:',c-a-b)\n",
    "print('Разность C, B и A:',c-b-a)"
   ]
  },
  {
   "cell_type": "code",
   "execution_count": 24,
   "metadata": {},
   "outputs": [
    {
     "name": "stdout",
     "output_type": "stream",
     "text": [
      "Симметричная разность A и B: {50, 20, 60, 30}\n",
      "Симметричная разность A и C: {40, 70, 60, 30}\n",
      "Симметричная разность B и C: {70, 40, 50, 20}\n",
      "Симметричная разность A, B и C: {70, 50, 60}\n"
     ]
    }
   ],
   "source": [
    "#Симметричная разность\n",
    "print('Симметричная разность A и B:',a^b)\n",
    "print('Симметричная разность A и C:',a^c)\n",
    "print('Симметричная разность B и C:',b^c)\n",
    "print('Симметричная разность A, B и C:',a^b^c)"
   ]
  },
  {
   "cell_type": "code",
   "execution_count": 29,
   "metadata": {},
   "outputs": [
    {
     "name": "stdout",
     "output_type": "stream",
     "text": [
      "[(40, 40, 70), (40, 40, 20), (40, 40, 30), (40, 50, 70), (40, 50, 20), (40, 50, 30), (40, 30, 70), (40, 30, 20), (40, 30, 30), (20, 40, 70), (20, 40, 20), (20, 40, 30), (20, 50, 70), (20, 50, 20), (20, 50, 30), (20, 30, 70), (20, 30, 20), (20, 30, 30), (60, 40, 70), (60, 40, 20), (60, 40, 30), (60, 50, 70), (60, 50, 20), (60, 50, 30), (60, 30, 70), (60, 30, 20), (60, 30, 30)]\n"
     ]
    }
   ],
   "source": [
    "#Декартово произведение\n",
    "print(list(itertools.product(a, b, c)))"
   ]
  },
  {
   "cell_type": "code",
   "execution_count": 31,
   "metadata": {},
   "outputs": [
    {
     "name": "stdout",
     "output_type": "stream",
     "text": [
      "Предел = 2.7169884253561034\n",
      "Кол-во членов = 11779\n",
      "Достигнутая точность = 9.999648042935405e-08\n"
     ]
    }
   ],
   "source": [
    "#На языке Python предложить алгоритм вычисляющий численно предел с точностью e=10^(-7)\n",
    "n=1\n",
    "e=10**(-7)\n",
    "L=np.exp(1)/(2*np.pi*n)**(1/(2*n))\n",
    "L2=0\n",
    "while (np.abs(L-L2)>e):\n",
    "    L2=L\n",
    "    n=n+1\n",
    "    L=np.exp(1)/(2*np.pi*n)**(1/(2*n))\n",
    "print('Предел =', L)\n",
    "print('Кол-во членов =', n)\n",
    "print('Достигнутая точность =', np.abs(L-L2))"
   ]
  },
  {
   "cell_type": "code",
   "execution_count": null,
   "metadata": {},
   "outputs": [],
   "source": []
  }
 ],
 "metadata": {
  "kernelspec": {
   "display_name": "Python 3",
   "language": "python",
   "name": "python3"
  },
  "language_info": {
   "codemirror_mode": {
    "name": "ipython",
    "version": 3
   },
   "file_extension": ".py",
   "mimetype": "text/x-python",
   "name": "python",
   "nbconvert_exporter": "python",
   "pygments_lexer": "ipython3",
   "version": "3.7.3"
  }
 },
 "nbformat": 4,
 "nbformat_minor": 2
}
