{
 "cells": [
  {
   "cell_type": "markdown",
   "metadata": {},
   "source": [
    "## <center>Курсовой проект<a class=\"anchor\" id=\"course_project\"></a><center>"
   ]
  },
  {
   "cell_type": "markdown",
   "metadata": {},
   "source": [
    "**Разработчик: Тимур С.**"
   ]
  },
  {
   "cell_type": "markdown",
   "metadata": {},
   "source": [
    "### Постановка задачи<a class=\"anchor\" id=\"course_project_task\"></a>"
   ]
  },
  {
   "cell_type": "markdown",
   "metadata": {},
   "source": [
    "**Задача**\n",
    "\n",
    "Требуется, на основании имеющихся данных о клиентах банка, построить модель, используя обучающий датасет, для прогнозирования невыполнения долговых обязательств по текущему кредиту. Выполнить прогноз для примеров из тестового датасета.\n",
    "\n",
    "**Наименование файлов с данными**\n",
    "\n",
    "course_project_train.csv - обучающий датасет<br>\n",
    "course_project_test.csv - тестовый датасет\n",
    "\n",
    "**Целевая переменная**\n",
    "\n",
    "Credit Default - факт невыполнения кредитных обязательств\n",
    "\n",
    "**Метрика качества**\n",
    "\n",
    "F1-score (sklearn.metrics.f1_score)\n",
    "\n",
    "**Требования к решению**\n",
    "\n",
    "*Целевая метрика*\n",
    "* F1 > 0.5\n",
    "* Метрика оценивается по качеству прогноза для главного класса (1 - просрочка по кредиту)\n",
    "\n",
    "*Решение должно содержать*\n",
    "1. Тетрадка Jupyter Notebook с кодом Вашего решения, названная по образцу {ФИО}\\_solution.ipynb, пример SShirkin\\_solution.ipynb\n",
    "2. Файл CSV с прогнозами целевой переменной для тестового датасета, названный по образцу {ФИО}\\_predictions.csv, пример SShirkin\\_predictions.csv\n",
    "\n",
    "*Рекомендации для файла с кодом (ipynb)*\n",
    "1. Файл должен содержать заголовки и комментарии (markdown)\n",
    "2. Повторяющиеся операции лучше оформлять в виде функций\n",
    "3. Не делать вывод большого количества строк таблиц (5-10 достаточно)\n",
    "4. По возможности добавлять графики, описывающие данные (около 3-5)\n",
    "5. Добавлять только лучшую модель, то есть не включать в код все варианты решения проекта\n",
    "6. Скрипт проекта должен отрабатывать от начала и до конца (от загрузки данных до выгрузки предсказаний)\n",
    "7. Весь проект должен быть в одном скрипте (файл ipynb).\n",
    "8. Допускается применение библиотек Python и моделей машинного обучения,\n",
    "которые были в данном курсе.\n",
    "\n",
    "**Сроки сдачи**\n",
    "\n",
    "Cдать проект нужно в течение 5 дней после окончания последнего вебинара.\n",
    "Оценки работ, сданных до дедлайна, будут представлены в виде рейтинга, ранжированного по заданной метрике качества.\n",
    "Проекты, сданные после дедлайна или сданные повторно, не попадают в рейтинг, но можно будет узнать результат."
   ]
  },
  {
   "cell_type": "markdown",
   "metadata": {},
   "source": [
    "**Подключение библиотек и скриптов**"
   ]
  },
  {
   "cell_type": "code",
   "execution_count": 1,
   "metadata": {},
   "outputs": [],
   "source": [
    "# !pip install xgboost\n",
    "# !pip install lightgbm\n",
    "# !pip install catboost"
   ]
  },
  {
   "cell_type": "code",
   "execution_count": 2,
   "metadata": {},
   "outputs": [
    {
     "name": "stderr",
     "output_type": "stream",
     "text": [
      "d:\\Users\\Tim\\Anaconda3\\lib\\site-packages\\dask\\config.py:168: YAMLLoadWarning: calling yaml.load() without Loader=... is deprecated, as the default Loader is unsafe. Please read https://msg.pyyaml.org/load for full details.\n",
      "  data = yaml.load(f.read()) or {}\n",
      "d:\\Users\\Tim\\Anaconda3\\lib\\site-packages\\distributed\\config.py:20: YAMLLoadWarning: calling yaml.load() without Loader=... is deprecated, as the default Loader is unsafe. Please read https://msg.pyyaml.org/load for full details.\n",
      "  defaults = yaml.load(f)\n"
     ]
    }
   ],
   "source": [
    "import numpy as np\n",
    "import pandas as pd\n",
    "import pickle\n",
    "import random\n",
    "import datetime\n",
    "\n",
    "from scipy.stats import shapiro\n",
    "from scipy.stats import probplot\n",
    "from scipy.stats import ttest_ind, mannwhitneyu\n",
    "from scipy.stats import chi2_contingency\n",
    "from statsmodels.stats.weightstats import zconfint\n",
    "\n",
    "from sklearn.preprocessing import StandardScaler, MinMaxScaler\n",
    "from sklearn.model_selection import train_test_split, ShuffleSplit, cross_val_score, learning_curve\n",
    "from sklearn.model_selection import KFold, GridSearchCV, RandomizedSearchCV\n",
    "from sklearn.metrics import classification_report, f1_score, precision_score, recall_score\n",
    "\n",
    "from sklearn.linear_model import LogisticRegression\n",
    "from sklearn.neighbors import KNeighborsClassifier\n",
    "import xgboost as xgb, lightgbm as lgbm, catboost as catb\n",
    "\n",
    "import seaborn as sns\n",
    "from matplotlib import pyplot as plt\n",
    "%matplotlib inline\n",
    "\n",
    "import warnings\n",
    "warnings.simplefilter('ignore')"
   ]
  },
  {
   "cell_type": "code",
   "execution_count": 3,
   "metadata": {},
   "outputs": [],
   "source": [
    "now1 = datetime.datetime.now()"
   ]
  },
  {
   "cell_type": "markdown",
   "metadata": {},
   "source": [
    "**Пути к директориям и файлам**"
   ]
  },
  {
   "cell_type": "code",
   "execution_count": 4,
   "metadata": {},
   "outputs": [],
   "source": [
    "# input\n",
    "TRAIN_DATASET_PATH = '../course_project_train.csv'\n",
    "TEST_DATASET_PATH = '../course_project_test.csv'\n",
    "TRAIN_FULL_PATH = '../training_project_train_full.csv'\n",
    "TRAIN_PART_PATH = '../training_project_train_part_b.csv'\n",
    "TEST_PART_PATH = '../training_project_test_part.csv'\n",
    "\n",
    "# output\n",
    "PREP_DATASET_PATH = '../training_project_data_prep.csv'\n",
    "SCALER_FILE_PATH = '../scaler.pkl'\n",
    "MODEL_FILE_PATH = '../model.pkl'"
   ]
  },
  {
   "cell_type": "markdown",
   "metadata": {},
   "source": [
    "## Построение модели классификации"
   ]
  },
  {
   "cell_type": "markdown",
   "metadata": {},
   "source": [
    "### Обзор обучающего датасета"
   ]
  },
  {
   "cell_type": "markdown",
   "metadata": {},
   "source": [
    "**Загрузка данных**"
   ]
  },
  {
   "cell_type": "code",
   "execution_count": 5,
   "metadata": {
    "scrolled": true
   },
   "outputs": [
    {
     "data": {
      "text/html": [
       "<div>\n",
       "<style scoped>\n",
       "    .dataframe tbody tr th:only-of-type {\n",
       "        vertical-align: middle;\n",
       "    }\n",
       "\n",
       "    .dataframe tbody tr th {\n",
       "        vertical-align: top;\n",
       "    }\n",
       "\n",
       "    .dataframe thead th {\n",
       "        text-align: right;\n",
       "    }\n",
       "</style>\n",
       "<table border=\"1\" class=\"dataframe\">\n",
       "  <thead>\n",
       "    <tr style=\"text-align: right;\">\n",
       "      <th></th>\n",
       "      <th>Home Ownership</th>\n",
       "      <th>Annual Income</th>\n",
       "      <th>Years in current job</th>\n",
       "      <th>Tax Liens</th>\n",
       "      <th>Number of Open Accounts</th>\n",
       "      <th>Years of Credit History</th>\n",
       "      <th>Maximum Open Credit</th>\n",
       "      <th>Number of Credit Problems</th>\n",
       "      <th>Months since last delinquent</th>\n",
       "      <th>Bankruptcies</th>\n",
       "      <th>Purpose</th>\n",
       "      <th>Term</th>\n",
       "      <th>Current Loan Amount</th>\n",
       "      <th>Current Credit Balance</th>\n",
       "      <th>Monthly Debt</th>\n",
       "      <th>Credit Score</th>\n",
       "      <th>Credit Default</th>\n",
       "    </tr>\n",
       "  </thead>\n",
       "  <tbody>\n",
       "    <tr>\n",
       "      <th>0</th>\n",
       "      <td>Own Home</td>\n",
       "      <td>482087.0</td>\n",
       "      <td>NaN</td>\n",
       "      <td>0.0</td>\n",
       "      <td>11.0</td>\n",
       "      <td>26.3</td>\n",
       "      <td>685960.0</td>\n",
       "      <td>1.0</td>\n",
       "      <td>NaN</td>\n",
       "      <td>1.0</td>\n",
       "      <td>debt consolidation</td>\n",
       "      <td>Short Term</td>\n",
       "      <td>99999999.0</td>\n",
       "      <td>47386.0</td>\n",
       "      <td>7914.0</td>\n",
       "      <td>749.0</td>\n",
       "      <td>0</td>\n",
       "    </tr>\n",
       "    <tr>\n",
       "      <th>1</th>\n",
       "      <td>Own Home</td>\n",
       "      <td>1025487.0</td>\n",
       "      <td>10+ years</td>\n",
       "      <td>0.0</td>\n",
       "      <td>15.0</td>\n",
       "      <td>15.3</td>\n",
       "      <td>1181730.0</td>\n",
       "      <td>0.0</td>\n",
       "      <td>NaN</td>\n",
       "      <td>0.0</td>\n",
       "      <td>debt consolidation</td>\n",
       "      <td>Long Term</td>\n",
       "      <td>264968.0</td>\n",
       "      <td>394972.0</td>\n",
       "      <td>18373.0</td>\n",
       "      <td>737.0</td>\n",
       "      <td>1</td>\n",
       "    </tr>\n",
       "    <tr>\n",
       "      <th>2</th>\n",
       "      <td>Home Mortgage</td>\n",
       "      <td>751412.0</td>\n",
       "      <td>8 years</td>\n",
       "      <td>0.0</td>\n",
       "      <td>11.0</td>\n",
       "      <td>35.0</td>\n",
       "      <td>1182434.0</td>\n",
       "      <td>0.0</td>\n",
       "      <td>NaN</td>\n",
       "      <td>0.0</td>\n",
       "      <td>debt consolidation</td>\n",
       "      <td>Short Term</td>\n",
       "      <td>99999999.0</td>\n",
       "      <td>308389.0</td>\n",
       "      <td>13651.0</td>\n",
       "      <td>742.0</td>\n",
       "      <td>0</td>\n",
       "    </tr>\n",
       "    <tr>\n",
       "      <th>3</th>\n",
       "      <td>Own Home</td>\n",
       "      <td>805068.0</td>\n",
       "      <td>6 years</td>\n",
       "      <td>0.0</td>\n",
       "      <td>8.0</td>\n",
       "      <td>22.5</td>\n",
       "      <td>147400.0</td>\n",
       "      <td>1.0</td>\n",
       "      <td>NaN</td>\n",
       "      <td>1.0</td>\n",
       "      <td>debt consolidation</td>\n",
       "      <td>Short Term</td>\n",
       "      <td>121396.0</td>\n",
       "      <td>95855.0</td>\n",
       "      <td>11338.0</td>\n",
       "      <td>694.0</td>\n",
       "      <td>0</td>\n",
       "    </tr>\n",
       "    <tr>\n",
       "      <th>4</th>\n",
       "      <td>Rent</td>\n",
       "      <td>776264.0</td>\n",
       "      <td>8 years</td>\n",
       "      <td>0.0</td>\n",
       "      <td>13.0</td>\n",
       "      <td>13.6</td>\n",
       "      <td>385836.0</td>\n",
       "      <td>1.0</td>\n",
       "      <td>NaN</td>\n",
       "      <td>0.0</td>\n",
       "      <td>debt consolidation</td>\n",
       "      <td>Short Term</td>\n",
       "      <td>125840.0</td>\n",
       "      <td>93309.0</td>\n",
       "      <td>7180.0</td>\n",
       "      <td>719.0</td>\n",
       "      <td>0</td>\n",
       "    </tr>\n",
       "  </tbody>\n",
       "</table>\n",
       "</div>"
      ],
      "text/plain": [
       "  Home Ownership  Annual Income Years in current job  Tax Liens  \\\n",
       "0       Own Home       482087.0                  NaN        0.0   \n",
       "1       Own Home      1025487.0            10+ years        0.0   \n",
       "2  Home Mortgage       751412.0              8 years        0.0   \n",
       "3       Own Home       805068.0              6 years        0.0   \n",
       "4           Rent       776264.0              8 years        0.0   \n",
       "\n",
       "   Number of Open Accounts  Years of Credit History  Maximum Open Credit  \\\n",
       "0                     11.0                     26.3             685960.0   \n",
       "1                     15.0                     15.3            1181730.0   \n",
       "2                     11.0                     35.0            1182434.0   \n",
       "3                      8.0                     22.5             147400.0   \n",
       "4                     13.0                     13.6             385836.0   \n",
       "\n",
       "   Number of Credit Problems  Months since last delinquent  Bankruptcies  \\\n",
       "0                        1.0                           NaN           1.0   \n",
       "1                        0.0                           NaN           0.0   \n",
       "2                        0.0                           NaN           0.0   \n",
       "3                        1.0                           NaN           1.0   \n",
       "4                        1.0                           NaN           0.0   \n",
       "\n",
       "              Purpose        Term  Current Loan Amount  \\\n",
       "0  debt consolidation  Short Term           99999999.0   \n",
       "1  debt consolidation   Long Term             264968.0   \n",
       "2  debt consolidation  Short Term           99999999.0   \n",
       "3  debt consolidation  Short Term             121396.0   \n",
       "4  debt consolidation  Short Term             125840.0   \n",
       "\n",
       "   Current Credit Balance  Monthly Debt  Credit Score  Credit Default  \n",
       "0                 47386.0        7914.0         749.0               0  \n",
       "1                394972.0       18373.0         737.0               1  \n",
       "2                308389.0       13651.0         742.0               0  \n",
       "3                 95855.0       11338.0         694.0               0  \n",
       "4                 93309.0        7180.0         719.0               0  "
      ]
     },
     "execution_count": 5,
     "metadata": {},
     "output_type": "execute_result"
    }
   ],
   "source": [
    "df_train = pd.read_csv(TRAIN_DATASET_PATH)\n",
    "df_base = pd.read_csv(TRAIN_DATASET_PATH)\n",
    "df_train.head()"
   ]
  },
  {
   "cell_type": "code",
   "execution_count": 6,
   "metadata": {},
   "outputs": [
    {
     "data": {
      "text/plain": [
       "(7500, 17)"
      ]
     },
     "execution_count": 6,
     "metadata": {},
     "output_type": "execute_result"
    }
   ],
   "source": [
    "df_train.shape"
   ]
  },
  {
   "cell_type": "code",
   "execution_count": 7,
   "metadata": {},
   "outputs": [
    {
     "data": {
      "text/html": [
       "<div>\n",
       "<style scoped>\n",
       "    .dataframe tbody tr th:only-of-type {\n",
       "        vertical-align: middle;\n",
       "    }\n",
       "\n",
       "    .dataframe tbody tr th {\n",
       "        vertical-align: top;\n",
       "    }\n",
       "\n",
       "    .dataframe thead th {\n",
       "        text-align: right;\n",
       "    }\n",
       "</style>\n",
       "<table border=\"1\" class=\"dataframe\">\n",
       "  <thead>\n",
       "    <tr style=\"text-align: right;\">\n",
       "      <th></th>\n",
       "      <th>Annual Income</th>\n",
       "      <th>Tax Liens</th>\n",
       "      <th>Number of Open Accounts</th>\n",
       "      <th>Years of Credit History</th>\n",
       "      <th>Maximum Open Credit</th>\n",
       "      <th>Number of Credit Problems</th>\n",
       "      <th>Months since last delinquent</th>\n",
       "      <th>Bankruptcies</th>\n",
       "      <th>Current Loan Amount</th>\n",
       "      <th>Current Credit Balance</th>\n",
       "      <th>Monthly Debt</th>\n",
       "      <th>Credit Score</th>\n",
       "      <th>Credit Default</th>\n",
       "    </tr>\n",
       "  </thead>\n",
       "  <tbody>\n",
       "    <tr>\n",
       "      <th>count</th>\n",
       "      <td>5.943000e+03</td>\n",
       "      <td>7500.000000</td>\n",
       "      <td>7500.000000</td>\n",
       "      <td>7500.000000</td>\n",
       "      <td>7.500000e+03</td>\n",
       "      <td>7500.000000</td>\n",
       "      <td>3419.000000</td>\n",
       "      <td>7486.000000</td>\n",
       "      <td>7.500000e+03</td>\n",
       "      <td>7.500000e+03</td>\n",
       "      <td>7500.000000</td>\n",
       "      <td>5943.000000</td>\n",
       "      <td>7500.000000</td>\n",
       "    </tr>\n",
       "    <tr>\n",
       "      <th>mean</th>\n",
       "      <td>1.366392e+06</td>\n",
       "      <td>0.030133</td>\n",
       "      <td>11.130933</td>\n",
       "      <td>18.317467</td>\n",
       "      <td>9.451537e+05</td>\n",
       "      <td>0.170000</td>\n",
       "      <td>34.692600</td>\n",
       "      <td>0.117152</td>\n",
       "      <td>1.187318e+07</td>\n",
       "      <td>2.898332e+05</td>\n",
       "      <td>18314.454133</td>\n",
       "      <td>1151.087498</td>\n",
       "      <td>0.281733</td>\n",
       "    </tr>\n",
       "    <tr>\n",
       "      <th>std</th>\n",
       "      <td>8.453392e+05</td>\n",
       "      <td>0.271604</td>\n",
       "      <td>4.908924</td>\n",
       "      <td>7.041946</td>\n",
       "      <td>1.602622e+07</td>\n",
       "      <td>0.498598</td>\n",
       "      <td>21.688806</td>\n",
       "      <td>0.347192</td>\n",
       "      <td>3.192612e+07</td>\n",
       "      <td>3.178714e+05</td>\n",
       "      <td>11926.764673</td>\n",
       "      <td>1604.451418</td>\n",
       "      <td>0.449874</td>\n",
       "    </tr>\n",
       "    <tr>\n",
       "      <th>min</th>\n",
       "      <td>1.645970e+05</td>\n",
       "      <td>0.000000</td>\n",
       "      <td>2.000000</td>\n",
       "      <td>4.000000</td>\n",
       "      <td>0.000000e+00</td>\n",
       "      <td>0.000000</td>\n",
       "      <td>0.000000</td>\n",
       "      <td>0.000000</td>\n",
       "      <td>1.124200e+04</td>\n",
       "      <td>0.000000e+00</td>\n",
       "      <td>0.000000</td>\n",
       "      <td>585.000000</td>\n",
       "      <td>0.000000</td>\n",
       "    </tr>\n",
       "    <tr>\n",
       "      <th>25%</th>\n",
       "      <td>8.443410e+05</td>\n",
       "      <td>0.000000</td>\n",
       "      <td>8.000000</td>\n",
       "      <td>13.500000</td>\n",
       "      <td>2.792295e+05</td>\n",
       "      <td>0.000000</td>\n",
       "      <td>16.000000</td>\n",
       "      <td>0.000000</td>\n",
       "      <td>1.801690e+05</td>\n",
       "      <td>1.142565e+05</td>\n",
       "      <td>10067.500000</td>\n",
       "      <td>711.000000</td>\n",
       "      <td>0.000000</td>\n",
       "    </tr>\n",
       "    <tr>\n",
       "      <th>50%</th>\n",
       "      <td>1.168386e+06</td>\n",
       "      <td>0.000000</td>\n",
       "      <td>10.000000</td>\n",
       "      <td>17.000000</td>\n",
       "      <td>4.781590e+05</td>\n",
       "      <td>0.000000</td>\n",
       "      <td>32.000000</td>\n",
       "      <td>0.000000</td>\n",
       "      <td>3.095730e+05</td>\n",
       "      <td>2.093230e+05</td>\n",
       "      <td>16076.500000</td>\n",
       "      <td>731.000000</td>\n",
       "      <td>0.000000</td>\n",
       "    </tr>\n",
       "    <tr>\n",
       "      <th>75%</th>\n",
       "      <td>1.640137e+06</td>\n",
       "      <td>0.000000</td>\n",
       "      <td>14.000000</td>\n",
       "      <td>21.800000</td>\n",
       "      <td>7.935015e+05</td>\n",
       "      <td>0.000000</td>\n",
       "      <td>50.000000</td>\n",
       "      <td>0.000000</td>\n",
       "      <td>5.198820e+05</td>\n",
       "      <td>3.604062e+05</td>\n",
       "      <td>23818.000000</td>\n",
       "      <td>743.000000</td>\n",
       "      <td>1.000000</td>\n",
       "    </tr>\n",
       "    <tr>\n",
       "      <th>max</th>\n",
       "      <td>1.014934e+07</td>\n",
       "      <td>7.000000</td>\n",
       "      <td>43.000000</td>\n",
       "      <td>57.700000</td>\n",
       "      <td>1.304726e+09</td>\n",
       "      <td>7.000000</td>\n",
       "      <td>118.000000</td>\n",
       "      <td>4.000000</td>\n",
       "      <td>1.000000e+08</td>\n",
       "      <td>6.506797e+06</td>\n",
       "      <td>136679.000000</td>\n",
       "      <td>7510.000000</td>\n",
       "      <td>1.000000</td>\n",
       "    </tr>\n",
       "  </tbody>\n",
       "</table>\n",
       "</div>"
      ],
      "text/plain": [
       "       Annual Income    Tax Liens  Number of Open Accounts  \\\n",
       "count   5.943000e+03  7500.000000              7500.000000   \n",
       "mean    1.366392e+06     0.030133                11.130933   \n",
       "std     8.453392e+05     0.271604                 4.908924   \n",
       "min     1.645970e+05     0.000000                 2.000000   \n",
       "25%     8.443410e+05     0.000000                 8.000000   \n",
       "50%     1.168386e+06     0.000000                10.000000   \n",
       "75%     1.640137e+06     0.000000                14.000000   \n",
       "max     1.014934e+07     7.000000                43.000000   \n",
       "\n",
       "       Years of Credit History  Maximum Open Credit  \\\n",
       "count              7500.000000         7.500000e+03   \n",
       "mean                 18.317467         9.451537e+05   \n",
       "std                   7.041946         1.602622e+07   \n",
       "min                   4.000000         0.000000e+00   \n",
       "25%                  13.500000         2.792295e+05   \n",
       "50%                  17.000000         4.781590e+05   \n",
       "75%                  21.800000         7.935015e+05   \n",
       "max                  57.700000         1.304726e+09   \n",
       "\n",
       "       Number of Credit Problems  Months since last delinquent  Bankruptcies  \\\n",
       "count                7500.000000                   3419.000000   7486.000000   \n",
       "mean                    0.170000                     34.692600      0.117152   \n",
       "std                     0.498598                     21.688806      0.347192   \n",
       "min                     0.000000                      0.000000      0.000000   \n",
       "25%                     0.000000                     16.000000      0.000000   \n",
       "50%                     0.000000                     32.000000      0.000000   \n",
       "75%                     0.000000                     50.000000      0.000000   \n",
       "max                     7.000000                    118.000000      4.000000   \n",
       "\n",
       "       Current Loan Amount  Current Credit Balance   Monthly Debt  \\\n",
       "count         7.500000e+03            7.500000e+03    7500.000000   \n",
       "mean          1.187318e+07            2.898332e+05   18314.454133   \n",
       "std           3.192612e+07            3.178714e+05   11926.764673   \n",
       "min           1.124200e+04            0.000000e+00       0.000000   \n",
       "25%           1.801690e+05            1.142565e+05   10067.500000   \n",
       "50%           3.095730e+05            2.093230e+05   16076.500000   \n",
       "75%           5.198820e+05            3.604062e+05   23818.000000   \n",
       "max           1.000000e+08            6.506797e+06  136679.000000   \n",
       "\n",
       "       Credit Score  Credit Default  \n",
       "count   5943.000000     7500.000000  \n",
       "mean    1151.087498        0.281733  \n",
       "std     1604.451418        0.449874  \n",
       "min      585.000000        0.000000  \n",
       "25%      711.000000        0.000000  \n",
       "50%      731.000000        0.000000  \n",
       "75%      743.000000        1.000000  \n",
       "max     7510.000000        1.000000  "
      ]
     },
     "execution_count": 7,
     "metadata": {},
     "output_type": "execute_result"
    }
   ],
   "source": [
    "df_train.describe()"
   ]
  },
  {
   "cell_type": "code",
   "execution_count": 8,
   "metadata": {},
   "outputs": [
    {
     "data": {
      "text/plain": [
       "Home Ownership                            Own Home\n",
       "Annual Income                               482087\n",
       "Years in current job                           NaN\n",
       "Tax Liens                                        0\n",
       "Number of Open Accounts                         11\n",
       "Years of Credit History                       26.3\n",
       "Maximum Open Credit                         685960\n",
       "Number of Credit Problems                        1\n",
       "Months since last delinquent                   NaN\n",
       "Bankruptcies                                     1\n",
       "Purpose                         debt consolidation\n",
       "Term                                    Short Term\n",
       "Current Loan Amount                          1e+08\n",
       "Current Credit Balance                       47386\n",
       "Monthly Debt                                  7914\n",
       "Credit Score                                   749\n",
       "Credit Default                                   0\n",
       "Name: 0, dtype: object"
      ]
     },
     "execution_count": 8,
     "metadata": {},
     "output_type": "execute_result"
    }
   ],
   "source": [
    "df_train.iloc[0]"
   ]
  },
  {
   "cell_type": "code",
   "execution_count": 9,
   "metadata": {},
   "outputs": [
    {
     "name": "stdout",
     "output_type": "stream",
     "text": [
      "<class 'pandas.core.frame.DataFrame'>\n",
      "RangeIndex: 7500 entries, 0 to 7499\n",
      "Data columns (total 17 columns):\n",
      "Home Ownership                  7500 non-null object\n",
      "Annual Income                   5943 non-null float64\n",
      "Years in current job            7129 non-null object\n",
      "Tax Liens                       7500 non-null float64\n",
      "Number of Open Accounts         7500 non-null float64\n",
      "Years of Credit History         7500 non-null float64\n",
      "Maximum Open Credit             7500 non-null float64\n",
      "Number of Credit Problems       7500 non-null float64\n",
      "Months since last delinquent    3419 non-null float64\n",
      "Bankruptcies                    7486 non-null float64\n",
      "Purpose                         7500 non-null object\n",
      "Term                            7500 non-null object\n",
      "Current Loan Amount             7500 non-null float64\n",
      "Current Credit Balance          7500 non-null float64\n",
      "Monthly Debt                    7500 non-null float64\n",
      "Credit Score                    5943 non-null float64\n",
      "Credit Default                  7500 non-null int64\n",
      "dtypes: float64(12), int64(1), object(4)\n",
      "memory usage: 996.2+ KB\n"
     ]
    }
   ],
   "source": [
    "df_train.info()"
   ]
  },
  {
   "cell_type": "markdown",
   "metadata": {},
   "source": [
    "В колонках Annual Income, Years in current job, Months since last delinquent, Bankruptcies, Credit Score имеются пропуски.\n",
    "Их нужно будет некоторым образом обработать."
   ]
  },
  {
   "cell_type": "markdown",
   "metadata": {},
   "source": [
    "### Приведение типов"
   ]
  },
  {
   "cell_type": "markdown",
   "metadata": {},
   "source": [
    "Узнаем, какое количество разнообразных значений содержится в каждом из столбцов."
   ]
  },
  {
   "cell_type": "code",
   "execution_count": 10,
   "metadata": {},
   "outputs": [
    {
     "name": "stdout",
     "output_type": "stream",
     "text": [
      "Home Ownership (diversity: 4) \n",
      "\n",
      "Home Mortgage    3637\n",
      "Rent             3204\n",
      "Own Home          647\n",
      "Have Mortgage      12\n",
      "Name: Home Ownership, dtype: int64\n",
      "****************************************************************************************************\n",
      "\n",
      "Annual Income (diversity: 5478) \n",
      "\n",
      "1161660.0    4\n",
      "1058376.0    4\n",
      "1338113.0    4\n",
      "1043651.0    4\n",
      "969475.0     4\n",
      "851751.0     3\n",
      "1160862.0    3\n",
      "1071125.0    3\n",
      "939170.0     3\n",
      "1496288.0    3\n",
      "868490.0     3\n",
      "713127.0     3\n",
      "1431840.0    3\n",
      "750880.0     3\n",
      "741760.0     3\n",
      "2293908.0    3\n",
      "869877.0     3\n",
      "1547512.0    3\n",
      "1037894.0    3\n",
      "1508600.0    3\n",
      "1405335.0    3\n",
      "1068313.0    3\n",
      "1912920.0    3\n",
      "1297814.0    3\n",
      "1458915.0    3\n",
      "745864.0     3\n",
      "1258712.0    3\n",
      "749816.0     3\n",
      "465405.0     3\n",
      "1206348.0    3\n",
      "            ..\n",
      "1206842.0    1\n",
      "1671905.0    1\n",
      "1766468.0    1\n",
      "1380198.0    1\n",
      "742691.0     1\n",
      "2069309.0    1\n",
      "2387293.0    1\n",
      "1649238.0    1\n",
      "1796697.0    1\n",
      "1174048.0    1\n",
      "1500696.0    1\n",
      "2980644.0    1\n",
      "1272316.0    1\n",
      "767220.0     1\n",
      "1567215.0    1\n",
      "2239644.0    1\n",
      "1092082.0    1\n",
      "595194.0     1\n",
      "1337847.0    1\n",
      "2774000.0    1\n",
      "529663.0     1\n",
      "1108498.0    1\n",
      "890112.0     1\n",
      "7514120.0    1\n",
      "832770.0     1\n",
      "1141254.0    1\n",
      "7907382.0    1\n",
      "1534478.0    1\n",
      "972040.0     1\n",
      "1654786.0    1\n",
      "Name: Annual Income, Length: 5478, dtype: int64\n",
      "****************************************************************************************************\n",
      "\n",
      "Years in current job (diversity: 11) \n",
      "\n",
      "10+ years    2332\n",
      "2 years       705\n",
      "3 years       620\n",
      "< 1 year      563\n",
      "5 years       516\n",
      "1 year        504\n",
      "4 years       469\n",
      "6 years       426\n",
      "7 years       396\n",
      "8 years       339\n",
      "9 years       259\n",
      "Name: Years in current job, dtype: int64\n",
      "****************************************************************************************************\n",
      "\n",
      "Tax Liens (diversity: 8) \n",
      "\n",
      "0.0    7366\n",
      "1.0      83\n",
      "2.0      30\n",
      "3.0      10\n",
      "4.0       6\n",
      "5.0       2\n",
      "6.0       2\n",
      "7.0       1\n",
      "Name: Tax Liens, dtype: int64\n",
      "****************************************************************************************************\n",
      "\n",
      "Number of Open Accounts (diversity: 39) \n",
      "\n",
      "9.0     728\n",
      "11.0    692\n",
      "10.0    677\n",
      "8.0     638\n",
      "7.0     613\n",
      "12.0    562\n",
      "6.0     504\n",
      "13.0    465\n",
      "14.0    420\n",
      "5.0     325\n",
      "15.0    313\n",
      "16.0    265\n",
      "17.0    232\n",
      "4.0     212\n",
      "18.0    143\n",
      "19.0    139\n",
      "3.0      95\n",
      "20.0     93\n",
      "21.0     78\n",
      "23.0     59\n",
      "24.0     50\n",
      "22.0     49\n",
      "25.0     32\n",
      "2.0      28\n",
      "28.0     14\n",
      "27.0     14\n",
      "26.0     12\n",
      "30.0     11\n",
      "29.0     10\n",
      "32.0      6\n",
      "33.0      6\n",
      "31.0      6\n",
      "34.0      2\n",
      "37.0      2\n",
      "43.0      1\n",
      "35.0      1\n",
      "41.0      1\n",
      "38.0      1\n",
      "42.0      1\n",
      "Name: Number of Open Accounts, dtype: int64\n",
      "****************************************************************************************************\n",
      "\n",
      "Years of Credit History (diversity: 408) \n",
      "\n",
      "15.0    104\n",
      "16.0     99\n",
      "16.5     91\n",
      "17.0     86\n",
      "17.5     83\n",
      "14.0     82\n",
      "18.0     80\n",
      "15.4     72\n",
      "18.5     72\n",
      "12.0     70\n",
      "13.0     69\n",
      "15.7     68\n",
      "13.5     68\n",
      "14.5     65\n",
      "15.6     65\n",
      "20.5     63\n",
      "11.0     60\n",
      "16.8     60\n",
      "10.0     60\n",
      "15.8     59\n",
      "21.0     59\n",
      "14.8     58\n",
      "19.4     58\n",
      "12.5     56\n",
      "17.6     52\n",
      "16.9     51\n",
      "15.1     51\n",
      "20.0     51\n",
      "22.5     51\n",
      "14.4     50\n",
      "       ... \n",
      "44.8      1\n",
      "36.7      1\n",
      "38.9      1\n",
      "36.1      1\n",
      "43.5      1\n",
      "40.1      1\n",
      "38.5      1\n",
      "5.3       1\n",
      "43.8      1\n",
      "47.0      1\n",
      "51.3      1\n",
      "36.6      1\n",
      "43.9      1\n",
      "42.7      1\n",
      "36.0      1\n",
      "42.3      1\n",
      "57.7      1\n",
      "31.1      1\n",
      "43.3      1\n",
      "37.2      1\n",
      "40.2      1\n",
      "39.9      1\n",
      "44.1      1\n",
      "42.0      1\n",
      "50.0      1\n",
      "43.2      1\n",
      "4.9       1\n",
      "39.5      1\n",
      "42.4      1\n",
      "39.8      1\n",
      "Name: Years of Credit History, Length: 408, dtype: int64\n",
      "****************************************************************************************************\n",
      "\n",
      "Maximum Open Credit (diversity: 6963) \n",
      "\n",
      "0.0          65\n",
      "319110.0      5\n",
      "334796.0      3\n",
      "607046.0      3\n",
      "294030.0      3\n",
      "341924.0      3\n",
      "382954.0      3\n",
      "594594.0      3\n",
      "424864.0      3\n",
      "357874.0      3\n",
      "443630.0      3\n",
      "349140.0      3\n",
      "358732.0      3\n",
      "189794.0      3\n",
      "246224.0      3\n",
      "513524.0      3\n",
      "487498.0      3\n",
      "344058.0      3\n",
      "727958.0      3\n",
      "421784.0      3\n",
      "323312.0      3\n",
      "615714.0      3\n",
      "211156.0      2\n",
      "731082.0      2\n",
      "333300.0      2\n",
      "325820.0      2\n",
      "357280.0      2\n",
      "252670.0      2\n",
      "291742.0      2\n",
      "130592.0      2\n",
      "             ..\n",
      "227876.0      1\n",
      "747670.0      1\n",
      "290158.0      1\n",
      "203302.0      1\n",
      "780384.0      1\n",
      "829532.0      1\n",
      "44748.0       1\n",
      "698456.0      1\n",
      "308242.0      1\n",
      "1724492.0     1\n",
      "333784.0      1\n",
      "373780.0      1\n",
      "349206.0      1\n",
      "123596.0      1\n",
      "580294.0      1\n",
      "252428.0      1\n",
      "293568.0      1\n",
      "780340.0      1\n",
      "459316.0      1\n",
      "599060.0      1\n",
      "796730.0      1\n",
      "323356.0      1\n",
      "50820.0       1\n",
      "9339924.0     1\n",
      "2219844.0     1\n",
      "534600.0      1\n",
      "1026124.0     1\n",
      "77066.0       1\n",
      "780164.0      1\n",
      "350768.0      1\n",
      "Name: Maximum Open Credit, Length: 6963, dtype: int64\n",
      "****************************************************************************************************\n",
      "\n",
      "Number of Credit Problems (diversity: 8) \n",
      "\n",
      "0.0    6469\n",
      "1.0     882\n",
      "2.0      93\n",
      "3.0      35\n",
      "4.0       9\n",
      "5.0       7\n",
      "6.0       4\n",
      "7.0       1\n",
      "Name: Number of Credit Problems, dtype: int64\n",
      "****************************************************************************************************\n",
      "\n",
      "Months since last delinquent (diversity: 89) \n",
      "\n",
      "14.0     76\n",
      "29.0     71\n",
      "8.0      68\n",
      "33.0     68\n",
      "13.0     65\n",
      "19.0     65\n",
      "12.0     65\n",
      "6.0      64\n",
      "7.0      64\n",
      "38.0     63\n",
      "10.0     63\n",
      "16.0     61\n",
      "9.0      61\n",
      "35.0     59\n",
      "24.0     59\n",
      "17.0     58\n",
      "18.0     58\n",
      "26.0     56\n",
      "34.0     55\n",
      "25.0     54\n",
      "20.0     54\n",
      "30.0     53\n",
      "22.0     52\n",
      "11.0     51\n",
      "32.0     51\n",
      "5.0      51\n",
      "37.0     51\n",
      "31.0     51\n",
      "41.0     50\n",
      "45.0     50\n",
      "         ..\n",
      "80.0     28\n",
      "1.0      26\n",
      "69.0     26\n",
      "52.0     26\n",
      "64.0     26\n",
      "49.0     25\n",
      "2.0      25\n",
      "74.0     25\n",
      "72.0     24\n",
      "58.0     24\n",
      "75.0     24\n",
      "56.0     23\n",
      "62.0     23\n",
      "76.0     23\n",
      "70.0     22\n",
      "67.0     22\n",
      "77.0     21\n",
      "73.0     21\n",
      "79.0     20\n",
      "81.0     19\n",
      "51.0     19\n",
      "0.0      18\n",
      "66.0     17\n",
      "82.0      4\n",
      "83.0      3\n",
      "86.0      1\n",
      "92.0      1\n",
      "118.0     1\n",
      "84.0      1\n",
      "91.0      1\n",
      "Name: Months since last delinquent, Length: 89, dtype: int64\n",
      "****************************************************************************************************\n",
      "\n",
      "Bankruptcies (diversity: 5) \n",
      "\n",
      "0.0    6660\n",
      "1.0     786\n",
      "2.0      31\n",
      "3.0       7\n",
      "4.0       2\n",
      "Name: Bankruptcies, dtype: int64\n",
      "****************************************************************************************************\n",
      "\n",
      "Purpose (diversity: 15) \n",
      "\n",
      "debt consolidation      5944\n",
      "other                    665\n",
      "home improvements        412\n",
      "business loan            129\n",
      "buy a car                 96\n",
      "medical bills             71\n",
      "major purchase            40\n",
      "take a trip               37\n",
      "buy house                 34\n",
      "small business            26\n",
      "wedding                   15\n",
      "moving                    11\n",
      "educational expenses      10\n",
      "vacation                   8\n",
      "renewable energy           2\n",
      "Name: Purpose, dtype: int64\n",
      "****************************************************************************************************\n",
      "\n",
      "Term (diversity: 2) \n",
      "\n",
      "Short Term    5556\n",
      "Long Term     1944\n",
      "Name: Term, dtype: int64\n",
      "****************************************************************************************************\n",
      "\n",
      "Current Loan Amount (diversity: 5386) \n",
      "\n",
      "99999999.0    870\n",
      "89298.0         6\n",
      "218064.0        6\n",
      "216106.0        5\n",
      "270226.0        5\n",
      "265826.0        5\n",
      "222926.0        5\n",
      "223322.0        5\n",
      "107360.0        4\n",
      "325292.0        4\n",
      "536976.0        4\n",
      "112596.0        4\n",
      "437184.0        4\n",
      "194194.0        4\n",
      "65340.0         4\n",
      "217932.0        4\n",
      "433752.0        4\n",
      "134222.0        4\n",
      "180268.0        4\n",
      "437096.0        4\n",
      "262174.0        4\n",
      "131846.0        4\n",
      "216260.0        4\n",
      "267982.0        4\n",
      "261646.0        4\n",
      "216546.0        4\n",
      "224422.0        4\n",
      "219626.0        4\n",
      "67166.0         4\n",
      "64526.0         4\n",
      "             ... \n",
      "21736.0         1\n",
      "110000.0        1\n",
      "512116.0        1\n",
      "183018.0        1\n",
      "317988.0        1\n",
      "180136.0        1\n",
      "134794.0        1\n",
      "652366.0        1\n",
      "134420.0        1\n",
      "202026.0        1\n",
      "77506.0         1\n",
      "627770.0        1\n",
      "32670.0         1\n",
      "281116.0        1\n",
      "200442.0        1\n",
      "355300.0        1\n",
      "148060.0        1\n",
      "95876.0         1\n",
      "387904.0        1\n",
      "130834.0        1\n",
      "313874.0        1\n",
      "439208.0        1\n",
      "303380.0        1\n",
      "469524.0        1\n",
      "334752.0        1\n",
      "490006.0        1\n",
      "404756.0        1\n",
      "194414.0        1\n",
      "420376.0        1\n",
      "33792.0         1\n",
      "Name: Current Loan Amount, Length: 5386, dtype: int64\n",
      "****************************************************************************************************\n",
      "\n",
      "Current Credit Balance (diversity: 6592) \n",
      "\n",
      "0.0          53\n",
      "191710.0      5\n",
      "53580.0       4\n",
      "106818.0      4\n",
      "155059.0      4\n",
      "82289.0       4\n",
      "198911.0      4\n",
      "136401.0      4\n",
      "83638.0       4\n",
      "219925.0      3\n",
      "93689.0       3\n",
      "64752.0       3\n",
      "268774.0      3\n",
      "115767.0      3\n",
      "217303.0      3\n",
      "317794.0      3\n",
      "50578.0       3\n",
      "115558.0      3\n",
      "273334.0      3\n",
      "237367.0      3\n",
      "48051.0       3\n",
      "114361.0      3\n",
      "174135.0      3\n",
      "69939.0       3\n",
      "181222.0      3\n",
      "108300.0      3\n",
      "134368.0      3\n",
      "92663.0       3\n",
      "161044.0      3\n",
      "93309.0       3\n",
      "             ..\n",
      "137883.0      1\n",
      "961134.0      1\n",
      "134140.0      1\n",
      "103759.0      1\n",
      "369797.0      1\n",
      "731709.0      1\n",
      "223174.0      1\n",
      "365826.0      1\n",
      "13604.0       1\n",
      "200108.0      1\n",
      "84132.0       1\n",
      "126274.0      1\n",
      "143108.0      1\n",
      "192204.0      1\n",
      "616987.0      1\n",
      "166535.0      1\n",
      "29621.0       1\n",
      "137864.0      1\n",
      "1016557.0     1\n",
      "292125.0      1\n",
      "374034.0      1\n",
      "267539.0      1\n",
      "731690.0      1\n",
      "227829.0      1\n",
      "227981.0      1\n",
      "229672.0      1\n",
      "349467.0      1\n",
      "116223.0      1\n",
      "797240.0      1\n",
      "189905.0      1\n",
      "Name: Current Credit Balance, Length: 6592, dtype: int64\n",
      "****************************************************************************************************\n",
      "\n",
      "Monthly Debt (diversity: 6716) \n",
      "\n",
      "0.0        6\n",
      "19222.0    4\n",
      "19667.0    4\n",
      "9525.0     3\n",
      "22364.0    3\n",
      "15749.0    3\n",
      "11285.0    3\n",
      "10308.0    3\n",
      "7709.0     3\n",
      "10987.0    3\n",
      "15036.0    3\n",
      "18373.0    3\n",
      "13632.0    3\n",
      "13356.0    3\n",
      "21002.0    3\n",
      "12264.0    3\n",
      "36579.0    3\n",
      "10714.0    3\n",
      "13651.0    3\n",
      "13162.0    3\n",
      "20272.0    3\n",
      "11183.0    3\n",
      "16357.0    3\n",
      "12371.0    3\n",
      "13565.0    3\n",
      "9872.0     3\n",
      "17905.0    3\n",
      "10719.0    3\n",
      "15744.0    3\n",
      "10478.0    3\n",
      "          ..\n",
      "70961.0    1\n",
      "26315.0    1\n",
      "34183.0    1\n",
      "20804.0    1\n",
      "19766.0    1\n",
      "17055.0    1\n",
      "9811.0     1\n",
      "18349.0    1\n",
      "14770.0    1\n",
      "10858.0    1\n",
      "13036.0    1\n",
      "10371.0    1\n",
      "7386.0     1\n",
      "27898.0    1\n",
      "14415.0    1\n",
      "19059.0    1\n",
      "41944.0    1\n",
      "42460.0    1\n",
      "8815.0     1\n",
      "16820.0    1\n",
      "27643.0    1\n",
      "20298.0    1\n",
      "19208.0    1\n",
      "13944.0    1\n",
      "14574.0    1\n",
      "12897.0    1\n",
      "27541.0    1\n",
      "23227.0    1\n",
      "55957.0    1\n",
      "17.0       1\n",
      "Name: Monthly Debt, Length: 6716, dtype: int64\n",
      "****************************************************************************************************\n",
      "\n",
      "Credit Score (diversity: 268) \n",
      "\n",
      "740.0     169\n",
      "747.0     168\n",
      "748.0     157\n",
      "745.0     152\n",
      "741.0     151\n",
      "742.0     151\n",
      "743.0     148\n",
      "746.0     145\n",
      "739.0     144\n",
      "738.0     137\n",
      "744.0     135\n",
      "737.0     134\n",
      "732.0     124\n",
      "736.0     113\n",
      "734.0     112\n",
      "733.0     101\n",
      "728.0     100\n",
      "730.0      98\n",
      "735.0      96\n",
      "731.0      94\n",
      "750.0      94\n",
      "729.0      87\n",
      "721.0      86\n",
      "725.0      86\n",
      "723.0      82\n",
      "727.0      80\n",
      "722.0      76\n",
      "720.0      75\n",
      "724.0      74\n",
      "749.0      73\n",
      "         ... \n",
      "588.0       1\n",
      "6410.0      1\n",
      "6610.0      1\n",
      "6270.0      1\n",
      "6910.0      1\n",
      "6790.0      1\n",
      "591.0       1\n",
      "6480.0      1\n",
      "610.0       1\n",
      "6570.0      1\n",
      "6880.0      1\n",
      "6770.0      1\n",
      "630.0       1\n",
      "6830.0      1\n",
      "599.0       1\n",
      "607.0       1\n",
      "6490.0      1\n",
      "6160.0      1\n",
      "6820.0      1\n",
      "6680.0      1\n",
      "619.0       1\n",
      "6750.0      1\n",
      "6210.0      1\n",
      "589.0       1\n",
      "631.0       1\n",
      "602.0       1\n",
      "616.0       1\n",
      "585.0       1\n",
      "620.0       1\n",
      "7010.0      1\n",
      "Name: Credit Score, Length: 268, dtype: int64\n",
      "****************************************************************************************************\n",
      "\n",
      "Credit Default (diversity: 2) \n",
      "\n",
      "0    5387\n",
      "1    2113\n",
      "Name: Credit Default, dtype: int64\n",
      "****************************************************************************************************\n",
      "\n"
     ]
    }
   ],
   "source": [
    "for colname in df_train.columns:\n",
    "    print(str(colname) + ' (diversity: ' + str(len(df_train[colname].value_counts())) + ') \\n\\n' \n",
    "          + str(df_train[colname].value_counts()) + '\\n' + '*' * 100 + '\\n')"
   ]
  },
  {
   "cell_type": "markdown",
   "metadata": {},
   "source": [
    "К номинативным (категориальным) признакам можно отнести столбцы: Home Ownership (4), Years in current job (11), Tax Liens (8), \n",
    "Number of Credit Problems (8), Bankruptcies (5), Purpose (15), Term (2)."
   ]
  },
  {
   "cell_type": "markdown",
   "metadata": {},
   "source": [
    "### Отбор признаков<a class=\"anchor\" id=\"feature_selection\"></a>"
   ]
  },
  {
   "cell_type": "code",
   "execution_count": 11,
   "metadata": {},
   "outputs": [],
   "source": [
    "# Количественные признаки\n",
    "NUM_FEATURE_NAMES = ['Annual Income', 'Number of Open Accounts', 'Years of Credit History', 'Maximum Open Credit', 'Months since last delinquent',\n",
    "                     'Current Loan Amount', 'Current Credit Balance', 'Monthly Debt', 'Credit Score']\n",
    "\n",
    "# Категориальные признаки\n",
    "CAT_FEATURE_NAMES = ['Home Ownership', 'Years in current job', 'Tax Liens', 'Number of Credit Problems', 'Bankruptcies', 'Purpose', 'Term']"
   ]
  },
  {
   "cell_type": "code",
   "execution_count": 12,
   "metadata": {},
   "outputs": [],
   "source": [
    "def convert_types(df):\n",
    "    for colname in CAT_FEATURE_NAMES:\n",
    "        df[colname] = df[colname].astype(str)\n",
    "    return df"
   ]
  },
  {
   "cell_type": "code",
   "execution_count": 13,
   "metadata": {},
   "outputs": [
    {
     "data": {
      "text/plain": [
       "Home Ownership                   object\n",
       "Annual Income                   float64\n",
       "Years in current job             object\n",
       "Tax Liens                        object\n",
       "Number of Open Accounts         float64\n",
       "Years of Credit History         float64\n",
       "Maximum Open Credit             float64\n",
       "Number of Credit Problems        object\n",
       "Months since last delinquent    float64\n",
       "Bankruptcies                     object\n",
       "Purpose                          object\n",
       "Term                             object\n",
       "Current Loan Amount             float64\n",
       "Current Credit Balance          float64\n",
       "Monthly Debt                    float64\n",
       "Credit Score                    float64\n",
       "Credit Default                    int64\n",
       "dtype: object"
      ]
     },
     "execution_count": 13,
     "metadata": {},
     "output_type": "execute_result"
    }
   ],
   "source": [
    "df_train = convert_types(df_train)\n",
    "df_train.dtypes"
   ]
  },
  {
   "cell_type": "code",
   "execution_count": 14,
   "metadata": {},
   "outputs": [
    {
     "data": {
      "text/html": [
       "<div>\n",
       "<style scoped>\n",
       "    .dataframe tbody tr th:only-of-type {\n",
       "        vertical-align: middle;\n",
       "    }\n",
       "\n",
       "    .dataframe tbody tr th {\n",
       "        vertical-align: top;\n",
       "    }\n",
       "\n",
       "    .dataframe thead th {\n",
       "        text-align: right;\n",
       "    }\n",
       "</style>\n",
       "<table border=\"1\" class=\"dataframe\">\n",
       "  <thead>\n",
       "    <tr style=\"text-align: right;\">\n",
       "      <th></th>\n",
       "      <th>Home Ownership</th>\n",
       "      <th>Annual Income</th>\n",
       "      <th>Years in current job</th>\n",
       "      <th>Tax Liens</th>\n",
       "      <th>Number of Open Accounts</th>\n",
       "      <th>Years of Credit History</th>\n",
       "      <th>Maximum Open Credit</th>\n",
       "      <th>Number of Credit Problems</th>\n",
       "      <th>Months since last delinquent</th>\n",
       "      <th>Bankruptcies</th>\n",
       "      <th>Purpose</th>\n",
       "      <th>Term</th>\n",
       "      <th>Current Loan Amount</th>\n",
       "      <th>Current Credit Balance</th>\n",
       "      <th>Monthly Debt</th>\n",
       "      <th>Credit Score</th>\n",
       "      <th>Credit Default</th>\n",
       "    </tr>\n",
       "  </thead>\n",
       "  <tbody>\n",
       "    <tr>\n",
       "      <th>0</th>\n",
       "      <td>Own Home</td>\n",
       "      <td>482087.0</td>\n",
       "      <td>nan</td>\n",
       "      <td>0.0</td>\n",
       "      <td>11.0</td>\n",
       "      <td>26.3</td>\n",
       "      <td>685960.0</td>\n",
       "      <td>1.0</td>\n",
       "      <td>NaN</td>\n",
       "      <td>1.0</td>\n",
       "      <td>debt consolidation</td>\n",
       "      <td>Short Term</td>\n",
       "      <td>99999999.0</td>\n",
       "      <td>47386.0</td>\n",
       "      <td>7914.0</td>\n",
       "      <td>749.0</td>\n",
       "      <td>0</td>\n",
       "    </tr>\n",
       "    <tr>\n",
       "      <th>1</th>\n",
       "      <td>Own Home</td>\n",
       "      <td>1025487.0</td>\n",
       "      <td>10+ years</td>\n",
       "      <td>0.0</td>\n",
       "      <td>15.0</td>\n",
       "      <td>15.3</td>\n",
       "      <td>1181730.0</td>\n",
       "      <td>0.0</td>\n",
       "      <td>NaN</td>\n",
       "      <td>0.0</td>\n",
       "      <td>debt consolidation</td>\n",
       "      <td>Long Term</td>\n",
       "      <td>264968.0</td>\n",
       "      <td>394972.0</td>\n",
       "      <td>18373.0</td>\n",
       "      <td>737.0</td>\n",
       "      <td>1</td>\n",
       "    </tr>\n",
       "    <tr>\n",
       "      <th>2</th>\n",
       "      <td>Home Mortgage</td>\n",
       "      <td>751412.0</td>\n",
       "      <td>8 years</td>\n",
       "      <td>0.0</td>\n",
       "      <td>11.0</td>\n",
       "      <td>35.0</td>\n",
       "      <td>1182434.0</td>\n",
       "      <td>0.0</td>\n",
       "      <td>NaN</td>\n",
       "      <td>0.0</td>\n",
       "      <td>debt consolidation</td>\n",
       "      <td>Short Term</td>\n",
       "      <td>99999999.0</td>\n",
       "      <td>308389.0</td>\n",
       "      <td>13651.0</td>\n",
       "      <td>742.0</td>\n",
       "      <td>0</td>\n",
       "    </tr>\n",
       "    <tr>\n",
       "      <th>3</th>\n",
       "      <td>Own Home</td>\n",
       "      <td>805068.0</td>\n",
       "      <td>6 years</td>\n",
       "      <td>0.0</td>\n",
       "      <td>8.0</td>\n",
       "      <td>22.5</td>\n",
       "      <td>147400.0</td>\n",
       "      <td>1.0</td>\n",
       "      <td>NaN</td>\n",
       "      <td>1.0</td>\n",
       "      <td>debt consolidation</td>\n",
       "      <td>Short Term</td>\n",
       "      <td>121396.0</td>\n",
       "      <td>95855.0</td>\n",
       "      <td>11338.0</td>\n",
       "      <td>694.0</td>\n",
       "      <td>0</td>\n",
       "    </tr>\n",
       "    <tr>\n",
       "      <th>4</th>\n",
       "      <td>Rent</td>\n",
       "      <td>776264.0</td>\n",
       "      <td>8 years</td>\n",
       "      <td>0.0</td>\n",
       "      <td>13.0</td>\n",
       "      <td>13.6</td>\n",
       "      <td>385836.0</td>\n",
       "      <td>1.0</td>\n",
       "      <td>NaN</td>\n",
       "      <td>0.0</td>\n",
       "      <td>debt consolidation</td>\n",
       "      <td>Short Term</td>\n",
       "      <td>125840.0</td>\n",
       "      <td>93309.0</td>\n",
       "      <td>7180.0</td>\n",
       "      <td>719.0</td>\n",
       "      <td>0</td>\n",
       "    </tr>\n",
       "  </tbody>\n",
       "</table>\n",
       "</div>"
      ],
      "text/plain": [
       "  Home Ownership  Annual Income Years in current job Tax Liens  \\\n",
       "0       Own Home       482087.0                  nan       0.0   \n",
       "1       Own Home      1025487.0            10+ years       0.0   \n",
       "2  Home Mortgage       751412.0              8 years       0.0   \n",
       "3       Own Home       805068.0              6 years       0.0   \n",
       "4           Rent       776264.0              8 years       0.0   \n",
       "\n",
       "   Number of Open Accounts  Years of Credit History  Maximum Open Credit  \\\n",
       "0                     11.0                     26.3             685960.0   \n",
       "1                     15.0                     15.3            1181730.0   \n",
       "2                     11.0                     35.0            1182434.0   \n",
       "3                      8.0                     22.5             147400.0   \n",
       "4                     13.0                     13.6             385836.0   \n",
       "\n",
       "  Number of Credit Problems  Months since last delinquent Bankruptcies  \\\n",
       "0                       1.0                           NaN          1.0   \n",
       "1                       0.0                           NaN          0.0   \n",
       "2                       0.0                           NaN          0.0   \n",
       "3                       1.0                           NaN          1.0   \n",
       "4                       1.0                           NaN          0.0   \n",
       "\n",
       "              Purpose        Term  Current Loan Amount  \\\n",
       "0  debt consolidation  Short Term           99999999.0   \n",
       "1  debt consolidation   Long Term             264968.0   \n",
       "2  debt consolidation  Short Term           99999999.0   \n",
       "3  debt consolidation  Short Term             121396.0   \n",
       "4  debt consolidation  Short Term             125840.0   \n",
       "\n",
       "   Current Credit Balance  Monthly Debt  Credit Score  Credit Default  \n",
       "0                 47386.0        7914.0         749.0               0  \n",
       "1                394972.0       18373.0         737.0               1  \n",
       "2                308389.0       13651.0         742.0               0  \n",
       "3                 95855.0       11338.0         694.0               0  \n",
       "4                 93309.0        7180.0         719.0               0  "
      ]
     },
     "execution_count": 14,
     "metadata": {},
     "output_type": "execute_result"
    }
   ],
   "source": [
    "df_train.head()"
   ]
  },
  {
   "cell_type": "markdown",
   "metadata": {},
   "source": [
    "**Обзор количественных признаков**"
   ]
  },
  {
   "cell_type": "code",
   "execution_count": 15,
   "metadata": {},
   "outputs": [
    {
     "data": {
      "text/html": [
       "<div>\n",
       "<style scoped>\n",
       "    .dataframe tbody tr th:only-of-type {\n",
       "        vertical-align: middle;\n",
       "    }\n",
       "\n",
       "    .dataframe tbody tr th {\n",
       "        vertical-align: top;\n",
       "    }\n",
       "\n",
       "    .dataframe thead th {\n",
       "        text-align: right;\n",
       "    }\n",
       "</style>\n",
       "<table border=\"1\" class=\"dataframe\">\n",
       "  <thead>\n",
       "    <tr style=\"text-align: right;\">\n",
       "      <th></th>\n",
       "      <th>Annual Income</th>\n",
       "      <th>Number of Open Accounts</th>\n",
       "      <th>Years of Credit History</th>\n",
       "      <th>Maximum Open Credit</th>\n",
       "      <th>Months since last delinquent</th>\n",
       "      <th>Current Loan Amount</th>\n",
       "      <th>Current Credit Balance</th>\n",
       "      <th>Monthly Debt</th>\n",
       "      <th>Credit Score</th>\n",
       "      <th>Credit Default</th>\n",
       "    </tr>\n",
       "  </thead>\n",
       "  <tbody>\n",
       "    <tr>\n",
       "      <th>count</th>\n",
       "      <td>5.943000e+03</td>\n",
       "      <td>7500.000000</td>\n",
       "      <td>7500.000000</td>\n",
       "      <td>7.500000e+03</td>\n",
       "      <td>3419.000000</td>\n",
       "      <td>7.500000e+03</td>\n",
       "      <td>7.500000e+03</td>\n",
       "      <td>7500.000000</td>\n",
       "      <td>5943.000000</td>\n",
       "      <td>7500.000000</td>\n",
       "    </tr>\n",
       "    <tr>\n",
       "      <th>mean</th>\n",
       "      <td>1.366392e+06</td>\n",
       "      <td>11.130933</td>\n",
       "      <td>18.317467</td>\n",
       "      <td>9.451537e+05</td>\n",
       "      <td>34.692600</td>\n",
       "      <td>1.187318e+07</td>\n",
       "      <td>2.898332e+05</td>\n",
       "      <td>18314.454133</td>\n",
       "      <td>1151.087498</td>\n",
       "      <td>0.281733</td>\n",
       "    </tr>\n",
       "    <tr>\n",
       "      <th>std</th>\n",
       "      <td>8.453392e+05</td>\n",
       "      <td>4.908924</td>\n",
       "      <td>7.041946</td>\n",
       "      <td>1.602622e+07</td>\n",
       "      <td>21.688806</td>\n",
       "      <td>3.192612e+07</td>\n",
       "      <td>3.178714e+05</td>\n",
       "      <td>11926.764673</td>\n",
       "      <td>1604.451418</td>\n",
       "      <td>0.449874</td>\n",
       "    </tr>\n",
       "    <tr>\n",
       "      <th>min</th>\n",
       "      <td>1.645970e+05</td>\n",
       "      <td>2.000000</td>\n",
       "      <td>4.000000</td>\n",
       "      <td>0.000000e+00</td>\n",
       "      <td>0.000000</td>\n",
       "      <td>1.124200e+04</td>\n",
       "      <td>0.000000e+00</td>\n",
       "      <td>0.000000</td>\n",
       "      <td>585.000000</td>\n",
       "      <td>0.000000</td>\n",
       "    </tr>\n",
       "    <tr>\n",
       "      <th>25%</th>\n",
       "      <td>8.443410e+05</td>\n",
       "      <td>8.000000</td>\n",
       "      <td>13.500000</td>\n",
       "      <td>2.792295e+05</td>\n",
       "      <td>16.000000</td>\n",
       "      <td>1.801690e+05</td>\n",
       "      <td>1.142565e+05</td>\n",
       "      <td>10067.500000</td>\n",
       "      <td>711.000000</td>\n",
       "      <td>0.000000</td>\n",
       "    </tr>\n",
       "    <tr>\n",
       "      <th>50%</th>\n",
       "      <td>1.168386e+06</td>\n",
       "      <td>10.000000</td>\n",
       "      <td>17.000000</td>\n",
       "      <td>4.781590e+05</td>\n",
       "      <td>32.000000</td>\n",
       "      <td>3.095730e+05</td>\n",
       "      <td>2.093230e+05</td>\n",
       "      <td>16076.500000</td>\n",
       "      <td>731.000000</td>\n",
       "      <td>0.000000</td>\n",
       "    </tr>\n",
       "    <tr>\n",
       "      <th>75%</th>\n",
       "      <td>1.640137e+06</td>\n",
       "      <td>14.000000</td>\n",
       "      <td>21.800000</td>\n",
       "      <td>7.935015e+05</td>\n",
       "      <td>50.000000</td>\n",
       "      <td>5.198820e+05</td>\n",
       "      <td>3.604062e+05</td>\n",
       "      <td>23818.000000</td>\n",
       "      <td>743.000000</td>\n",
       "      <td>1.000000</td>\n",
       "    </tr>\n",
       "    <tr>\n",
       "      <th>max</th>\n",
       "      <td>1.014934e+07</td>\n",
       "      <td>43.000000</td>\n",
       "      <td>57.700000</td>\n",
       "      <td>1.304726e+09</td>\n",
       "      <td>118.000000</td>\n",
       "      <td>1.000000e+08</td>\n",
       "      <td>6.506797e+06</td>\n",
       "      <td>136679.000000</td>\n",
       "      <td>7510.000000</td>\n",
       "      <td>1.000000</td>\n",
       "    </tr>\n",
       "  </tbody>\n",
       "</table>\n",
       "</div>"
      ],
      "text/plain": [
       "       Annual Income  Number of Open Accounts  Years of Credit History  \\\n",
       "count   5.943000e+03              7500.000000              7500.000000   \n",
       "mean    1.366392e+06                11.130933                18.317467   \n",
       "std     8.453392e+05                 4.908924                 7.041946   \n",
       "min     1.645970e+05                 2.000000                 4.000000   \n",
       "25%     8.443410e+05                 8.000000                13.500000   \n",
       "50%     1.168386e+06                10.000000                17.000000   \n",
       "75%     1.640137e+06                14.000000                21.800000   \n",
       "max     1.014934e+07                43.000000                57.700000   \n",
       "\n",
       "       Maximum Open Credit  Months since last delinquent  Current Loan Amount  \\\n",
       "count         7.500000e+03                   3419.000000         7.500000e+03   \n",
       "mean          9.451537e+05                     34.692600         1.187318e+07   \n",
       "std           1.602622e+07                     21.688806         3.192612e+07   \n",
       "min           0.000000e+00                      0.000000         1.124200e+04   \n",
       "25%           2.792295e+05                     16.000000         1.801690e+05   \n",
       "50%           4.781590e+05                     32.000000         3.095730e+05   \n",
       "75%           7.935015e+05                     50.000000         5.198820e+05   \n",
       "max           1.304726e+09                    118.000000         1.000000e+08   \n",
       "\n",
       "       Current Credit Balance   Monthly Debt  Credit Score  Credit Default  \n",
       "count            7.500000e+03    7500.000000   5943.000000     7500.000000  \n",
       "mean             2.898332e+05   18314.454133   1151.087498        0.281733  \n",
       "std              3.178714e+05   11926.764673   1604.451418        0.449874  \n",
       "min              0.000000e+00       0.000000    585.000000        0.000000  \n",
       "25%              1.142565e+05   10067.500000    711.000000        0.000000  \n",
       "50%              2.093230e+05   16076.500000    731.000000        0.000000  \n",
       "75%              3.604062e+05   23818.000000    743.000000        1.000000  \n",
       "max              6.506797e+06  136679.000000   7510.000000        1.000000  "
      ]
     },
     "execution_count": 15,
     "metadata": {},
     "output_type": "execute_result"
    }
   ],
   "source": [
    "df_train.describe()"
   ]
  },
  {
   "cell_type": "markdown",
   "metadata": {},
   "source": [
    "**Обзор номинативных признаков**"
   ]
  },
  {
   "cell_type": "code",
   "execution_count": 16,
   "metadata": {},
   "outputs": [
    {
     "name": "stdout",
     "output_type": "stream",
     "text": [
      "Home Ownership\n",
      "\n",
      "Home Mortgage    3637\n",
      "Rent             3204\n",
      "Own Home          647\n",
      "Have Mortgage      12\n",
      "Name: Home Ownership, dtype: int64\n",
      "****************************************************************************************************\n",
      "\n",
      "Years in current job\n",
      "\n",
      "10+ years    2332\n",
      "2 years       705\n",
      "3 years       620\n",
      "< 1 year      563\n",
      "5 years       516\n",
      "1 year        504\n",
      "4 years       469\n",
      "6 years       426\n",
      "7 years       396\n",
      "nan           371\n",
      "8 years       339\n",
      "9 years       259\n",
      "Name: Years in current job, dtype: int64\n",
      "****************************************************************************************************\n",
      "\n",
      "Tax Liens\n",
      "\n",
      "0.0    7366\n",
      "1.0      83\n",
      "2.0      30\n",
      "3.0      10\n",
      "4.0       6\n",
      "6.0       2\n",
      "5.0       2\n",
      "7.0       1\n",
      "Name: Tax Liens, dtype: int64\n",
      "****************************************************************************************************\n",
      "\n",
      "Number of Credit Problems\n",
      "\n",
      "0.0    6469\n",
      "1.0     882\n",
      "2.0      93\n",
      "3.0      35\n",
      "4.0       9\n",
      "5.0       7\n",
      "6.0       4\n",
      "7.0       1\n",
      "Name: Number of Credit Problems, dtype: int64\n",
      "****************************************************************************************************\n",
      "\n",
      "Bankruptcies\n",
      "\n",
      "0.0    6660\n",
      "1.0     786\n",
      "2.0      31\n",
      "nan      14\n",
      "3.0       7\n",
      "4.0       2\n",
      "Name: Bankruptcies, dtype: int64\n",
      "****************************************************************************************************\n",
      "\n",
      "Purpose\n",
      "\n",
      "debt consolidation      5944\n",
      "other                    665\n",
      "home improvements        412\n",
      "business loan            129\n",
      "buy a car                 96\n",
      "medical bills             71\n",
      "major purchase            40\n",
      "take a trip               37\n",
      "buy house                 34\n",
      "small business            26\n",
      "wedding                   15\n",
      "moving                    11\n",
      "educational expenses      10\n",
      "vacation                   8\n",
      "renewable energy           2\n",
      "Name: Purpose, dtype: int64\n",
      "****************************************************************************************************\n",
      "\n",
      "Term\n",
      "\n",
      "Short Term    5556\n",
      "Long Term     1944\n",
      "Name: Term, dtype: int64\n",
      "****************************************************************************************************\n",
      "\n"
     ]
    }
   ],
   "source": [
    "for colname in df_train.select_dtypes(include='object').columns:\n",
    "    print(str(colname) + '\\n\\n' + str(df_train[colname].value_counts()) + '\\n' + '*' * 100 + '\\n')"
   ]
  },
  {
   "cell_type": "markdown",
   "metadata": {},
   "source": [
    "**Загрузка тестовых данных**"
   ]
  },
  {
   "cell_type": "code",
   "execution_count": 17,
   "metadata": {},
   "outputs": [
    {
     "data": {
      "text/html": [
       "<div>\n",
       "<style scoped>\n",
       "    .dataframe tbody tr th:only-of-type {\n",
       "        vertical-align: middle;\n",
       "    }\n",
       "\n",
       "    .dataframe tbody tr th {\n",
       "        vertical-align: top;\n",
       "    }\n",
       "\n",
       "    .dataframe thead th {\n",
       "        text-align: right;\n",
       "    }\n",
       "</style>\n",
       "<table border=\"1\" class=\"dataframe\">\n",
       "  <thead>\n",
       "    <tr style=\"text-align: right;\">\n",
       "      <th></th>\n",
       "      <th>Home Ownership</th>\n",
       "      <th>Annual Income</th>\n",
       "      <th>Years in current job</th>\n",
       "      <th>Tax Liens</th>\n",
       "      <th>Number of Open Accounts</th>\n",
       "      <th>Years of Credit History</th>\n",
       "      <th>Maximum Open Credit</th>\n",
       "      <th>Number of Credit Problems</th>\n",
       "      <th>Months since last delinquent</th>\n",
       "      <th>Bankruptcies</th>\n",
       "      <th>Purpose</th>\n",
       "      <th>Term</th>\n",
       "      <th>Current Loan Amount</th>\n",
       "      <th>Current Credit Balance</th>\n",
       "      <th>Monthly Debt</th>\n",
       "      <th>Credit Score</th>\n",
       "    </tr>\n",
       "  </thead>\n",
       "  <tbody>\n",
       "    <tr>\n",
       "      <th>0</th>\n",
       "      <td>Rent</td>\n",
       "      <td>NaN</td>\n",
       "      <td>4 years</td>\n",
       "      <td>0.0</td>\n",
       "      <td>9.0</td>\n",
       "      <td>12.5</td>\n",
       "      <td>220968.0</td>\n",
       "      <td>0.0</td>\n",
       "      <td>70.0</td>\n",
       "      <td>0.0</td>\n",
       "      <td>debt consolidation</td>\n",
       "      <td>Short Term</td>\n",
       "      <td>162470.0</td>\n",
       "      <td>105906.0</td>\n",
       "      <td>6813.0</td>\n",
       "      <td>NaN</td>\n",
       "    </tr>\n",
       "    <tr>\n",
       "      <th>1</th>\n",
       "      <td>Rent</td>\n",
       "      <td>231838.0</td>\n",
       "      <td>1 year</td>\n",
       "      <td>0.0</td>\n",
       "      <td>6.0</td>\n",
       "      <td>32.7</td>\n",
       "      <td>55946.0</td>\n",
       "      <td>0.0</td>\n",
       "      <td>8.0</td>\n",
       "      <td>0.0</td>\n",
       "      <td>educational expenses</td>\n",
       "      <td>Short Term</td>\n",
       "      <td>78298.0</td>\n",
       "      <td>46037.0</td>\n",
       "      <td>2318.0</td>\n",
       "      <td>699.0</td>\n",
       "    </tr>\n",
       "    <tr>\n",
       "      <th>2</th>\n",
       "      <td>Home Mortgage</td>\n",
       "      <td>1152540.0</td>\n",
       "      <td>3 years</td>\n",
       "      <td>0.0</td>\n",
       "      <td>10.0</td>\n",
       "      <td>13.7</td>\n",
       "      <td>204600.0</td>\n",
       "      <td>0.0</td>\n",
       "      <td>NaN</td>\n",
       "      <td>0.0</td>\n",
       "      <td>debt consolidation</td>\n",
       "      <td>Short Term</td>\n",
       "      <td>200178.0</td>\n",
       "      <td>146490.0</td>\n",
       "      <td>18729.0</td>\n",
       "      <td>7260.0</td>\n",
       "    </tr>\n",
       "    <tr>\n",
       "      <th>3</th>\n",
       "      <td>Home Mortgage</td>\n",
       "      <td>1220313.0</td>\n",
       "      <td>10+ years</td>\n",
       "      <td>0.0</td>\n",
       "      <td>16.0</td>\n",
       "      <td>17.0</td>\n",
       "      <td>456302.0</td>\n",
       "      <td>0.0</td>\n",
       "      <td>70.0</td>\n",
       "      <td>0.0</td>\n",
       "      <td>debt consolidation</td>\n",
       "      <td>Short Term</td>\n",
       "      <td>217382.0</td>\n",
       "      <td>213199.0</td>\n",
       "      <td>27559.0</td>\n",
       "      <td>739.0</td>\n",
       "    </tr>\n",
       "    <tr>\n",
       "      <th>4</th>\n",
       "      <td>Home Mortgage</td>\n",
       "      <td>2340952.0</td>\n",
       "      <td>6 years</td>\n",
       "      <td>0.0</td>\n",
       "      <td>11.0</td>\n",
       "      <td>23.6</td>\n",
       "      <td>1207272.0</td>\n",
       "      <td>0.0</td>\n",
       "      <td>NaN</td>\n",
       "      <td>0.0</td>\n",
       "      <td>debt consolidation</td>\n",
       "      <td>Long Term</td>\n",
       "      <td>777634.0</td>\n",
       "      <td>425391.0</td>\n",
       "      <td>42605.0</td>\n",
       "      <td>706.0</td>\n",
       "    </tr>\n",
       "  </tbody>\n",
       "</table>\n",
       "</div>"
      ],
      "text/plain": [
       "  Home Ownership  Annual Income Years in current job  Tax Liens  \\\n",
       "0           Rent            NaN              4 years        0.0   \n",
       "1           Rent       231838.0               1 year        0.0   \n",
       "2  Home Mortgage      1152540.0              3 years        0.0   \n",
       "3  Home Mortgage      1220313.0            10+ years        0.0   \n",
       "4  Home Mortgage      2340952.0              6 years        0.0   \n",
       "\n",
       "   Number of Open Accounts  Years of Credit History  Maximum Open Credit  \\\n",
       "0                      9.0                     12.5             220968.0   \n",
       "1                      6.0                     32.7              55946.0   \n",
       "2                     10.0                     13.7             204600.0   \n",
       "3                     16.0                     17.0             456302.0   \n",
       "4                     11.0                     23.6            1207272.0   \n",
       "\n",
       "   Number of Credit Problems  Months since last delinquent  Bankruptcies  \\\n",
       "0                        0.0                          70.0           0.0   \n",
       "1                        0.0                           8.0           0.0   \n",
       "2                        0.0                           NaN           0.0   \n",
       "3                        0.0                          70.0           0.0   \n",
       "4                        0.0                           NaN           0.0   \n",
       "\n",
       "                Purpose        Term  Current Loan Amount  \\\n",
       "0    debt consolidation  Short Term             162470.0   \n",
       "1  educational expenses  Short Term              78298.0   \n",
       "2    debt consolidation  Short Term             200178.0   \n",
       "3    debt consolidation  Short Term             217382.0   \n",
       "4    debt consolidation   Long Term             777634.0   \n",
       "\n",
       "   Current Credit Balance  Monthly Debt  Credit Score  \n",
       "0                105906.0        6813.0           NaN  \n",
       "1                 46037.0        2318.0         699.0  \n",
       "2                146490.0       18729.0        7260.0  \n",
       "3                213199.0       27559.0         739.0  \n",
       "4                425391.0       42605.0         706.0  "
      ]
     },
     "execution_count": 17,
     "metadata": {},
     "output_type": "execute_result"
    }
   ],
   "source": [
    "df_test = pd.read_csv(TEST_DATASET_PATH)\n",
    "df_test.head()"
   ]
  },
  {
   "cell_type": "code",
   "execution_count": 18,
   "metadata": {},
   "outputs": [
    {
     "data": {
      "text/plain": [
       "(2500, 16)"
      ]
     },
     "execution_count": 18,
     "metadata": {},
     "output_type": "execute_result"
    }
   ],
   "source": [
    "df_test.shape"
   ]
  },
  {
   "cell_type": "markdown",
   "metadata": {},
   "source": [
    "### Обработка пропусков"
   ]
  },
  {
   "cell_type": "code",
   "execution_count": 19,
   "metadata": {},
   "outputs": [],
   "source": [
    "def process_Annual_Income(df):\n",
    "    \"\"\"Метод обработки пропусков в столбце Annual Income\"\"\"\n",
    "    \n",
    "    SCORE_1 = df.loc[(df['Home Ownership'] == 'Rent'), 'Annual Income'].mean()\n",
    "    SCORE_2 = df.loc[(df['Home Ownership'] == 'Own Home'), 'Annual Income'].mean()\n",
    "    SCORE_3 = df.loc[(df['Home Ownership'] == 'Have Mortgage'), 'Annual Income'].mean()\n",
    "    SCORE_4 = df.loc[(df['Home Ownership'] == 'Home Mortgage'), 'Annual Income'].mean()\n",
    "    \n",
    "    df.loc[(df['Annual Income'].isnull()) & (df['Home Ownership'] == 'Rent'), 'Annual Income'] = SCORE_1\n",
    "    df.loc[(df['Annual Income'].isnull()) & (df['Home Ownership'] == 'Own Home'), 'Annual Income'] = SCORE_2\n",
    "    df.loc[(df['Annual Income'].isnull()) & (df['Home Ownership'] == 'Have Mortgage'), 'Annual Income'] = SCORE_3\n",
    "    df.loc[(df['Annual Income'].isnull()) & (df['Home Ownership'] == 'Home Mortgage'), 'Annual Income'] = SCORE_4\n",
    "    df.loc[df['Annual Income'] > 5*10**6, 'Annual Income'] = SCORE_2\n",
    "    \n",
    "    return df"
   ]
  },
  {
   "cell_type": "code",
   "execution_count": 20,
   "metadata": {},
   "outputs": [],
   "source": [
    "df_train = process_Annual_Income(df_train)"
   ]
  },
  {
   "cell_type": "markdown",
   "metadata": {},
   "source": [
    "### Сохранение обучающего датасета<a class=\"anchor\" id=\"saving\"></a>"
   ]
  },
  {
   "cell_type": "code",
   "execution_count": 21,
   "metadata": {},
   "outputs": [
    {
     "data": {
      "text/html": [
       "<div>\n",
       "<style scoped>\n",
       "    .dataframe tbody tr th:only-of-type {\n",
       "        vertical-align: middle;\n",
       "    }\n",
       "\n",
       "    .dataframe tbody tr th {\n",
       "        vertical-align: top;\n",
       "    }\n",
       "\n",
       "    .dataframe thead th {\n",
       "        text-align: right;\n",
       "    }\n",
       "</style>\n",
       "<table border=\"1\" class=\"dataframe\">\n",
       "  <thead>\n",
       "    <tr style=\"text-align: right;\">\n",
       "      <th></th>\n",
       "      <th>Home Ownership</th>\n",
       "      <th>Annual Income</th>\n",
       "      <th>Years in current job</th>\n",
       "      <th>Tax Liens</th>\n",
       "      <th>Number of Open Accounts</th>\n",
       "      <th>Years of Credit History</th>\n",
       "      <th>Maximum Open Credit</th>\n",
       "      <th>Number of Credit Problems</th>\n",
       "      <th>Months since last delinquent</th>\n",
       "      <th>Bankruptcies</th>\n",
       "      <th>Purpose</th>\n",
       "      <th>Term</th>\n",
       "      <th>Current Loan Amount</th>\n",
       "      <th>Current Credit Balance</th>\n",
       "      <th>Monthly Debt</th>\n",
       "      <th>Credit Score</th>\n",
       "      <th>Credit Default</th>\n",
       "    </tr>\n",
       "  </thead>\n",
       "  <tbody>\n",
       "    <tr>\n",
       "      <th>0</th>\n",
       "      <td>Own Home</td>\n",
       "      <td>482087.0</td>\n",
       "      <td>nan</td>\n",
       "      <td>0.0</td>\n",
       "      <td>11.0</td>\n",
       "      <td>26.3</td>\n",
       "      <td>685960.0</td>\n",
       "      <td>1.0</td>\n",
       "      <td>NaN</td>\n",
       "      <td>1.0</td>\n",
       "      <td>debt consolidation</td>\n",
       "      <td>Short Term</td>\n",
       "      <td>99999999.0</td>\n",
       "      <td>47386.0</td>\n",
       "      <td>7914.0</td>\n",
       "      <td>749.0</td>\n",
       "      <td>0</td>\n",
       "    </tr>\n",
       "    <tr>\n",
       "      <th>1</th>\n",
       "      <td>Own Home</td>\n",
       "      <td>1025487.0</td>\n",
       "      <td>10+ years</td>\n",
       "      <td>0.0</td>\n",
       "      <td>15.0</td>\n",
       "      <td>15.3</td>\n",
       "      <td>1181730.0</td>\n",
       "      <td>0.0</td>\n",
       "      <td>NaN</td>\n",
       "      <td>0.0</td>\n",
       "      <td>debt consolidation</td>\n",
       "      <td>Long Term</td>\n",
       "      <td>264968.0</td>\n",
       "      <td>394972.0</td>\n",
       "      <td>18373.0</td>\n",
       "      <td>737.0</td>\n",
       "      <td>1</td>\n",
       "    </tr>\n",
       "    <tr>\n",
       "      <th>2</th>\n",
       "      <td>Home Mortgage</td>\n",
       "      <td>751412.0</td>\n",
       "      <td>8 years</td>\n",
       "      <td>0.0</td>\n",
       "      <td>11.0</td>\n",
       "      <td>35.0</td>\n",
       "      <td>1182434.0</td>\n",
       "      <td>0.0</td>\n",
       "      <td>NaN</td>\n",
       "      <td>0.0</td>\n",
       "      <td>debt consolidation</td>\n",
       "      <td>Short Term</td>\n",
       "      <td>99999999.0</td>\n",
       "      <td>308389.0</td>\n",
       "      <td>13651.0</td>\n",
       "      <td>742.0</td>\n",
       "      <td>0</td>\n",
       "    </tr>\n",
       "    <tr>\n",
       "      <th>3</th>\n",
       "      <td>Own Home</td>\n",
       "      <td>805068.0</td>\n",
       "      <td>6 years</td>\n",
       "      <td>0.0</td>\n",
       "      <td>8.0</td>\n",
       "      <td>22.5</td>\n",
       "      <td>147400.0</td>\n",
       "      <td>1.0</td>\n",
       "      <td>NaN</td>\n",
       "      <td>1.0</td>\n",
       "      <td>debt consolidation</td>\n",
       "      <td>Short Term</td>\n",
       "      <td>121396.0</td>\n",
       "      <td>95855.0</td>\n",
       "      <td>11338.0</td>\n",
       "      <td>694.0</td>\n",
       "      <td>0</td>\n",
       "    </tr>\n",
       "    <tr>\n",
       "      <th>4</th>\n",
       "      <td>Rent</td>\n",
       "      <td>776264.0</td>\n",
       "      <td>8 years</td>\n",
       "      <td>0.0</td>\n",
       "      <td>13.0</td>\n",
       "      <td>13.6</td>\n",
       "      <td>385836.0</td>\n",
       "      <td>1.0</td>\n",
       "      <td>NaN</td>\n",
       "      <td>0.0</td>\n",
       "      <td>debt consolidation</td>\n",
       "      <td>Short Term</td>\n",
       "      <td>125840.0</td>\n",
       "      <td>93309.0</td>\n",
       "      <td>7180.0</td>\n",
       "      <td>719.0</td>\n",
       "      <td>0</td>\n",
       "    </tr>\n",
       "  </tbody>\n",
       "</table>\n",
       "</div>"
      ],
      "text/plain": [
       "  Home Ownership  Annual Income Years in current job Tax Liens  \\\n",
       "0       Own Home       482087.0                  nan       0.0   \n",
       "1       Own Home      1025487.0            10+ years       0.0   \n",
       "2  Home Mortgage       751412.0              8 years       0.0   \n",
       "3       Own Home       805068.0              6 years       0.0   \n",
       "4           Rent       776264.0              8 years       0.0   \n",
       "\n",
       "   Number of Open Accounts  Years of Credit History  Maximum Open Credit  \\\n",
       "0                     11.0                     26.3             685960.0   \n",
       "1                     15.0                     15.3            1181730.0   \n",
       "2                     11.0                     35.0            1182434.0   \n",
       "3                      8.0                     22.5             147400.0   \n",
       "4                     13.0                     13.6             385836.0   \n",
       "\n",
       "  Number of Credit Problems  Months since last delinquent Bankruptcies  \\\n",
       "0                       1.0                           NaN          1.0   \n",
       "1                       0.0                           NaN          0.0   \n",
       "2                       0.0                           NaN          0.0   \n",
       "3                       1.0                           NaN          1.0   \n",
       "4                       1.0                           NaN          0.0   \n",
       "\n",
       "              Purpose        Term  Current Loan Amount  \\\n",
       "0  debt consolidation  Short Term           99999999.0   \n",
       "1  debt consolidation   Long Term             264968.0   \n",
       "2  debt consolidation  Short Term           99999999.0   \n",
       "3  debt consolidation  Short Term             121396.0   \n",
       "4  debt consolidation  Short Term             125840.0   \n",
       "\n",
       "   Current Credit Balance  Monthly Debt  Credit Score  Credit Default  \n",
       "0                 47386.0        7914.0         749.0               0  \n",
       "1                394972.0       18373.0         737.0               1  \n",
       "2                308389.0       13651.0         742.0               0  \n",
       "3                 95855.0       11338.0         694.0               0  \n",
       "4                 93309.0        7180.0         719.0               0  "
      ]
     },
     "execution_count": 21,
     "metadata": {},
     "output_type": "execute_result"
    }
   ],
   "source": [
    "df_train.to_csv(PREP_DATASET_PATH, index=False, encoding='utf-8')\n",
    "df_train.head()"
   ]
  },
  {
   "cell_type": "markdown",
   "metadata": {},
   "source": [
    "### Анализ данных"
   ]
  },
  {
   "cell_type": "markdown",
   "metadata": {},
   "source": [
    "**Выделение целевой переменной и групп признаков**"
   ]
  },
  {
   "cell_type": "code",
   "execution_count": 22,
   "metadata": {},
   "outputs": [],
   "source": [
    "TARGET_NAME = 'Credit Default'\n",
    "BASE_FEATURE_NAMES = df_base.columns.drop(TARGET_NAME).tolist()\n",
    "NEW_FEATURE_NAMES = df_base.columns.drop([TARGET_NAME] + BASE_FEATURE_NAMES).tolist()\n",
    "SELECTED_FEATURE_NAMES = NUM_FEATURE_NAMES + NEW_FEATURE_NAMES"
   ]
  },
  {
   "cell_type": "markdown",
   "metadata": {},
   "source": [
    "**Анализ целевой переменной**"
   ]
  },
  {
   "cell_type": "markdown",
   "metadata": {},
   "source": [
    "Обзор распределения"
   ]
  },
  {
   "cell_type": "code",
   "execution_count": 23,
   "metadata": {},
   "outputs": [
    {
     "data": {
      "text/plain": [
       "0    5387\n",
       "1    2113\n",
       "Name: Credit Default, dtype: int64"
      ]
     },
     "execution_count": 23,
     "metadata": {},
     "output_type": "execute_result"
    }
   ],
   "source": [
    "df_train[TARGET_NAME].value_counts()"
   ]
  },
  {
   "cell_type": "markdown",
   "metadata": {},
   "source": [
    "Выборка в целевой переменной не очень сбалансирована. Значений '0' в 2.5 раза больше, чем значений '1'."
   ]
  },
  {
   "cell_type": "code",
   "execution_count": 24,
   "metadata": {},
   "outputs": [
    {
     "data": {
      "image/png": "[encoded data removed]",
      "text/plain": [
       "<Figure size 576x360 with 1 Axes>"
      ]
     },
     "metadata": {
      "needs_background": "light"
     },
     "output_type": "display_data"
    }
   ],
   "source": [
    "plt.figure(figsize=(8, 5))\n",
    "\n",
    "sns.countplot(x=TARGET_NAME, data=df_train)\n",
    "\n",
    "plt.title('Target variable distribution')\n",
    "plt.show()"
   ]
  },
  {
   "cell_type": "markdown",
   "metadata": {},
   "source": [
    "**Корреляция с базовыми признаками**"
   ]
  },
  {
   "cell_type": "code",
   "execution_count": 25,
   "metadata": {},
   "outputs": [
    {
     "data": {
      "image/png": "[encoded data removed]",
      "text/plain": [
       "<Figure size 720x576 with 1 Axes>"
      ]
     },
     "metadata": {
      "needs_background": "light"
     },
     "output_type": "display_data"
    }
   ],
   "source": [
    "corr_with_target = df_base[BASE_FEATURE_NAMES + [TARGET_NAME]].corr().iloc[:-1, -1].sort_values(ascending=False)\n",
    "\n",
    "plt.figure(figsize=(10, 8))\n",
    "\n",
    "sns.barplot(x=corr_with_target.values, y=corr_with_target.index)\n",
    "\n",
    "plt.title('Correlation with target variable')\n",
    "plt.show()"
   ]
  },
  {
   "cell_type": "markdown",
   "metadata": {},
   "source": [
    "### Анализ признакового пространства<a class=\"anchor\" id=\"features_analysis\"></a>"
   ]
  },
  {
   "cell_type": "markdown",
   "metadata": {},
   "source": [
    "**Матрица корреляций**"
   ]
  },
  {
   "cell_type": "code",
   "execution_count": 26,
   "metadata": {},
   "outputs": [
    {
     "data": {
      "image/png": "[encoded data removed]",
      "text/plain": [
       "<Figure size 864x720 with 2 Axes>"
      ]
     },
     "metadata": {
      "needs_background": "light"
     },
     "output_type": "display_data"
    }
   ],
   "source": [
    "plt.figure(figsize = (12,10))\n",
    "\n",
    "sns.set(font_scale=1.4)\n",
    "sns.heatmap(df_base[BASE_FEATURE_NAMES].corr().round(3), annot=True, linewidths=.5, cmap='GnBu')\n",
    "\n",
    "plt.title('Correlation matrix')\n",
    "plt.show()"
   ]
  },
  {
   "cell_type": "markdown",
   "metadata": {},
   "source": [
    "Сильной корреляции между признаками не прослеживается"
   ]
  },
  {
   "cell_type": "markdown",
   "metadata": {},
   "source": [
    "**Теперь посмотрим на распределения всех интересующих нас количественных признаков**"
   ]
  },
  {
   "cell_type": "code",
   "execution_count": 27,
   "metadata": {},
   "outputs": [
    {
     "data": {
      "text/plain": [
       "array([[<matplotlib.axes._subplots.AxesSubplot object at 0x0000000005C1A3C8>,\n",
       "        <matplotlib.axes._subplots.AxesSubplot object at 0x000000000EED5160>,\n",
       "        <matplotlib.axes._subplots.AxesSubplot object at 0x000000000EC53B38>],\n",
       "       [<matplotlib.axes._subplots.AxesSubplot object at 0x000000000EC824E0>,\n",
       "        <matplotlib.axes._subplots.AxesSubplot object at 0x000000000ECA8E48>,\n",
       "        <matplotlib.axes._subplots.AxesSubplot object at 0x000000000ECD57B8>],\n",
       "       [<matplotlib.axes._subplots.AxesSubplot object at 0x000000000ED03160>,\n",
       "        <matplotlib.axes._subplots.AxesSubplot object at 0x000000000ED29B00>,\n",
       "        <matplotlib.axes._subplots.AxesSubplot object at 0x000000000ED29B38>]],\n",
       "      dtype=object)"
      ]
     },
     "execution_count": 27,
     "metadata": {},
     "output_type": "execute_result"
    },
    {
     "data": {
      "image/png": "[encoded data removed]",
      "text/plain": [
       "<Figure size 864x864 with 9 Axes>"
      ]
     },
     "metadata": {},
     "output_type": "display_data"
    }
   ],
   "source": [
    "df_base[NUM_FEATURE_NAMES].hist(figsize=(12,12), bins=15)"
   ]
  },
  {
   "cell_type": "markdown",
   "metadata": {},
   "source": [
    "Видим, что ни у одного из количественныхпризнаков распределение не близко к нормальному.\n",
    "\n",
    "Графики большинства признаков больше напоминают распределение Пуассона."
   ]
  },
  {
   "cell_type": "markdown",
   "metadata": {},
   "source": [
    "### Полезные функции"
   ]
  },
  {
   "cell_type": "code",
   "execution_count": 28,
   "metadata": {},
   "outputs": [],
   "source": [
    "def get_classification_report(y_train_true, y_train_pred, y_test_true, y_test_pred):\n",
    "    print('TRAIN\\n\\n' + classification_report(y_train_true, y_train_pred))\n",
    "    print('TEST\\n\\n' + classification_report(y_test_true, y_test_pred))\n",
    "    print('CONFUSION MATRIX\\n')\n",
    "    print(pd.crosstab(y_test_true, y_test_pred))"
   ]
  },
  {
   "cell_type": "code",
   "execution_count": 29,
   "metadata": {},
   "outputs": [],
   "source": [
    "def balance_df_by_target(df, target_name):\n",
    "\n",
    "    target_counts = df[target_name].value_counts()\n",
    "\n",
    "    major_class_name = target_counts.argmax()\n",
    "    minor_class_name = target_counts.argmin()\n",
    "    \n",
    "    disbalance_coeff = int(target_counts[major_class_name] / target_counts[minor_class_name]) - 1\n",
    "\n",
    "    for i in range(disbalance_coeff):\n",
    "        sample = df[df[target_name] == minor_class_name].sample(target_counts[minor_class_name])\n",
    "        df = df.append(sample, ignore_index=True)\n",
    "    \n",
    "    return df.sample(frac=1) "
   ]
  },
  {
   "cell_type": "markdown",
   "metadata": {},
   "source": [
    "### Приведение типов для модели CatBoost"
   ]
  },
  {
   "cell_type": "code",
   "execution_count": 30,
   "metadata": {},
   "outputs": [],
   "source": [
    "def types_for_CatBoost(cat_features_name, df):\n",
    "    for colname in cat_features_name:\n",
    "        df[colname] = pd.Categorical(df[colname])\n",
    "    return df"
   ]
  },
  {
   "cell_type": "code",
   "execution_count": 31,
   "metadata": {},
   "outputs": [
    {
     "data": {
      "text/plain": [
       "Home Ownership               category\n",
       "Years in current job         category\n",
       "Tax Liens                    category\n",
       "Number of Credit Problems    category\n",
       "Bankruptcies                 category\n",
       "Purpose                      category\n",
       "Term                         category\n",
       "dtype: object"
      ]
     },
     "execution_count": 31,
     "metadata": {},
     "output_type": "execute_result"
    }
   ],
   "source": [
    "df_train = types_for_CatBoost(CAT_FEATURE_NAMES, df_train)\n",
    "# df_base = types_for_CatBoost(CAT_FEATURE_NAMES, df)\n",
    "df_train[CAT_FEATURE_NAMES].dtypes"
   ]
  },
  {
   "cell_type": "markdown",
   "metadata": {},
   "source": [
    "### Нормализация данных<a class=\"anchor\" id=\"normalization\"></a>"
   ]
  },
  {
   "cell_type": "code",
   "execution_count": 32,
   "metadata": {},
   "outputs": [],
   "source": [
    "scaler = StandardScaler()\n",
    "\n",
    "df_norm = df_train.copy() # df.copy()\n",
    "df_norm[NUM_FEATURE_NAMES] = scaler.fit_transform(df_norm[NUM_FEATURE_NAMES])\n",
    "\n",
    "df_train = df_norm.copy()"
   ]
  },
  {
   "cell_type": "markdown",
   "metadata": {},
   "source": [
    "**Сохранение модели для нормализации данных**"
   ]
  },
  {
   "cell_type": "code",
   "execution_count": 33,
   "metadata": {},
   "outputs": [],
   "source": [
    "with open(SCALER_FILE_PATH, 'wb') as file:\n",
    "    pickle.dump(scaler, file)"
   ]
  },
  {
   "cell_type": "markdown",
   "metadata": {},
   "source": [
    "### Разбиение на train и test<a class=\"anchor\" id=\"train_and_test\"></a>"
   ]
  },
  {
   "cell_type": "code",
   "execution_count": 34,
   "metadata": {},
   "outputs": [],
   "source": [
    "X = df_train[SELECTED_FEATURE_NAMES + CAT_FEATURE_NAMES]\n",
    "y = df_train[TARGET_NAME]\n",
    "\n",
    "X_train, X_test, y_train, y_test = train_test_split(X, y, shuffle=True, test_size=0.3, random_state=21)"
   ]
  },
  {
   "cell_type": "markdown",
   "metadata": {},
   "source": [
    "### Балансировка целевой переменной<a class=\"anchor\" id=\"target_balancing\"></a>"
   ]
  },
  {
   "cell_type": "code",
   "execution_count": 35,
   "metadata": {},
   "outputs": [
    {
     "data": {
      "text/plain": [
       "0    3771\n",
       "1    2958\n",
       "Name: Credit Default, dtype: int64"
      ]
     },
     "execution_count": 35,
     "metadata": {},
     "output_type": "execute_result"
    }
   ],
   "source": [
    "df_for_balancing = pd.concat([X_train, y_train], axis=1)\n",
    "df_balanced = balance_df_by_target(df_for_balancing, TARGET_NAME)\n",
    "    \n",
    "df_balanced[TARGET_NAME].value_counts()"
   ]
  },
  {
   "cell_type": "code",
   "execution_count": 36,
   "metadata": {},
   "outputs": [],
   "source": [
    "X_train = df_balanced.drop(columns=TARGET_NAME)\n",
    "y_train = df_balanced[TARGET_NAME]"
   ]
  },
  {
   "cell_type": "markdown",
   "metadata": {},
   "source": [
    "### Сохранение обучающего и тестового датасетов<a class=\"anchor\" id=\"train_test_saving\"></a> "
   ]
  },
  {
   "cell_type": "code",
   "execution_count": 37,
   "metadata": {},
   "outputs": [],
   "source": [
    "train = pd.concat([X_train, y_train], axis=1)\n",
    "test = pd.concat([X_test, y_test], axis=1)"
   ]
  },
  {
   "cell_type": "code",
   "execution_count": 38,
   "metadata": {},
   "outputs": [],
   "source": [
    "df_train.to_csv(TRAIN_FULL_PATH, index=False, encoding='utf-8')\n",
    "train.to_csv(TRAIN_PART_PATH, index=False, encoding='utf-8')\n",
    "test.to_csv(TEST_PART_PATH, index=False, encoding='utf-8')"
   ]
  },
  {
   "cell_type": "markdown",
   "metadata": {},
   "source": [
    "### Построение и оценка базовой модели<a class=\"anchor\" id=\"baseline_modeling\"></a> "
   ]
  },
  {
   "cell_type": "markdown",
   "metadata": {},
   "source": [
    "*CatBoost*"
   ]
  },
  {
   "cell_type": "code",
   "execution_count": 39,
   "metadata": {},
   "outputs": [
    {
     "name": "stdout",
     "output_type": "stream",
     "text": [
      "TRAIN\n",
      "\n",
      "              precision    recall  f1-score   support\n",
      "\n",
      "           0       0.86      0.94      0.90      3771\n",
      "           1       0.91      0.81      0.86      2958\n",
      "\n",
      "   micro avg       0.88      0.88      0.88      6729\n",
      "   macro avg       0.88      0.87      0.88      6729\n",
      "weighted avg       0.88      0.88      0.88      6729\n",
      "\n",
      "TEST\n",
      "\n",
      "              precision    recall  f1-score   support\n",
      "\n",
      "           0       0.81      0.85      0.83      1616\n",
      "           1       0.56      0.49      0.52       634\n",
      "\n",
      "   micro avg       0.75      0.75      0.75      2250\n",
      "   macro avg       0.68      0.67      0.67      2250\n",
      "weighted avg       0.74      0.75      0.74      2250\n",
      "\n",
      "CONFUSION MATRIX\n",
      "\n",
      "col_0              0    1\n",
      "Credit Default           \n",
      "0               1368  248\n",
      "1                324  310\n"
     ]
    }
   ],
   "source": [
    "model_catb = catb.CatBoostClassifier(silent=True, random_state=21, cat_features=CAT_FEATURE_NAMES)\n",
    "model_catb.fit(X_train, y_train)\n",
    "\n",
    "y_train_pred = model_catb.predict(X_train)\n",
    "y_test_pred = model_catb.predict(X_test)\n",
    "\n",
    "get_classification_report(y_train, y_train_pred, y_test, y_test_pred)"
   ]
  },
  {
   "cell_type": "markdown",
   "metadata": {},
   "source": [
    "### Подбор гиперпараметров<a class=\"anchor\" id=\"tuning_best_model\"></a> "
   ]
  },
  {
   "cell_type": "code",
   "execution_count": 40,
   "metadata": {},
   "outputs": [],
   "source": [
    "model_catb = catb.CatBoostClassifier(silent=True, random_state=21, cat_features=CAT_FEATURE_NAMES)"
   ]
  },
  {
   "cell_type": "code",
   "execution_count": 41,
   "metadata": {},
   "outputs": [],
   "source": [
    "params = {'n_estimators':[50, 100, 200, 500, 750], \n",
    "          'max_depth':[3, 5, 7]}"
   ]
  },
  {
   "cell_type": "code",
   "execution_count": 42,
   "metadata": {},
   "outputs": [],
   "source": [
    "cv=KFold(n_splits=3, random_state=21, shuffle=True)"
   ]
  },
  {
   "cell_type": "code",
   "execution_count": 43,
   "metadata": {},
   "outputs": [],
   "source": [
    "#%%time\n",
    "\n",
    "rs = GridSearchCV(model_catb, params, scoring='f1', cv=cv, n_jobs=-1)"
   ]
  },
  {
   "cell_type": "code",
   "execution_count": 44,
   "metadata": {},
   "outputs": [
    {
     "data": {
      "text/plain": [
       "GridSearchCV(cv=KFold(n_splits=3, random_state=21, shuffle=True),\n",
       "       error_score='raise-deprecating',\n",
       "       estimator=<catboost.core.CatBoostClassifier object at 0x000000000EABE3C8>,\n",
       "       fit_params=None, iid='warn', n_jobs=-1,\n",
       "       param_grid={'n_estimators': [50, 100, 200, 500, 750], 'max_depth': [3, 5, 7]},\n",
       "       pre_dispatch='2*n_jobs', refit=True, return_train_score='warn',\n",
       "       scoring='f1', verbose=0)"
      ]
     },
     "execution_count": 44,
     "metadata": {},
     "output_type": "execute_result"
    }
   ],
   "source": [
    "rs.fit(X, y)"
   ]
  },
  {
   "cell_type": "code",
   "execution_count": 45,
   "metadata": {},
   "outputs": [
    {
     "data": {
      "text/plain": [
       "{'max_depth': 7, 'n_estimators': 50}"
      ]
     },
     "execution_count": 45,
     "metadata": {},
     "output_type": "execute_result"
    }
   ],
   "source": [
    "rs.best_params_"
   ]
  },
  {
   "cell_type": "code",
   "execution_count": 46,
   "metadata": {},
   "outputs": [
    {
     "data": {
      "text/plain": [
       "0.4457284481235457"
      ]
     },
     "execution_count": 46,
     "metadata": {},
     "output_type": "execute_result"
    }
   ],
   "source": [
    "rs.best_score_"
   ]
  },
  {
   "cell_type": "code",
   "execution_count": 47,
   "metadata": {},
   "outputs": [],
   "source": [
    "n_estimators = rs.best_params_['n_estimators']\n",
    "max_depth = rs.best_params_['max_depth']"
   ]
  },
  {
   "cell_type": "markdown",
   "metadata": {},
   "source": [
    "**Полезные функции**"
   ]
  },
  {
   "cell_type": "code",
   "execution_count": 48,
   "metadata": {},
   "outputs": [],
   "source": [
    "def show_proba_calibration_plots(y_predicted_probs, y_true_labels):\n",
    "    preds_with_true_labels = np.array(list(zip(y_predicted_probs, y_true_labels)))\n",
    "\n",
    "    thresholds = []\n",
    "    precisions = []\n",
    "    recalls = []\n",
    "    f1_scores = []\n",
    "\n",
    "    for threshold in np.linspace(0.1, 0.9, 9):\n",
    "        thresholds.append(threshold)\n",
    "        precisions.append(precision_score(y_true_labels, list(map(int, y_predicted_probs > threshold))))\n",
    "        recalls.append(recall_score(y_true_labels, list(map(int, y_predicted_probs > threshold))))\n",
    "        f1_scores.append(f1_score(y_true_labels, list(map(int, y_predicted_probs > threshold))))\n",
    "\n",
    "    scores_table = pd.DataFrame({'f1':f1_scores,\n",
    "                                 'precision':precisions,\n",
    "                                 'recall':recalls,\n",
    "                                 'probability':thresholds}).sort_values('f1', ascending=False).round(3)\n",
    "  \n",
    "    figure = plt.figure(figsize = (15, 5))\n",
    "\n",
    "    plt1 = figure.add_subplot(121)\n",
    "    plt1.plot(thresholds, precisions, label='Precision', linewidth=4)\n",
    "    plt1.plot(thresholds, recalls, label='Recall', linewidth=4)\n",
    "    plt1.plot(thresholds, f1_scores, label='F1', linewidth=4)\n",
    "    plt1.set_ylabel('Scores')\n",
    "    plt1.set_xlabel('Probability threshold')\n",
    "    plt1.set_title('Probabilities threshold calibration')\n",
    "    plt1.legend(bbox_to_anchor=(0.25, 0.25))   \n",
    "    plt1.table(cellText = scores_table.values,\n",
    "               colLabels = scores_table.columns, \n",
    "               colLoc = 'center', cellLoc = 'center', loc = 'bottom', bbox = [0, -1.3, 1, 1])\n",
    "\n",
    "    plt2 = figure.add_subplot(122)\n",
    "    plt2.hist(preds_with_true_labels[preds_with_true_labels[:, 1] == 0][:, 0], \n",
    "              label='Another class', color='royalblue', alpha=1)\n",
    "    plt2.hist(preds_with_true_labels[preds_with_true_labels[:, 1] == 1][:, 0], \n",
    "              label='Main class', color='darkcyan', alpha=0.8)\n",
    "    plt2.set_ylabel('Number of examples')\n",
    "    plt2.set_xlabel('Probabilities')\n",
    "    plt2.set_title('Probability histogram')\n",
    "    plt2.legend(bbox_to_anchor=(1, 1))\n",
    "\n",
    "    plt.show()"
   ]
  },
  {
   "cell_type": "code",
   "execution_count": 49,
   "metadata": {},
   "outputs": [],
   "source": [
    "def show_learning_curve_plot(estimator, X, y, cv=3, n_jobs=-1, train_sizes=np.linspace(.1, 1.0, 5)):\n",
    "\n",
    "    train_sizes, train_scores, test_scores = learning_curve(estimator, X, y, \n",
    "                                                            cv=cv, \n",
    "                                                            scoring='f1',\n",
    "                                                            train_sizes=train_sizes, \n",
    "                                                            n_jobs=n_jobs)\n",
    "    train_scores_mean = np.mean(train_scores, axis=1)\n",
    "    train_scores_std = np.std(train_scores, axis=1)\n",
    "    test_scores_mean = np.mean(test_scores, axis=1)\n",
    "    test_scores_std = np.std(test_scores, axis=1)\n",
    "\n",
    "    plt.figure(figsize=(15,8))\n",
    "    plt.fill_between(train_sizes, train_scores_mean - train_scores_std,\n",
    "                     train_scores_mean + train_scores_std, alpha=0.1, color=\"r\")\n",
    "    plt.fill_between(train_sizes, test_scores_mean - test_scores_std,\n",
    "                     test_scores_mean + test_scores_std, alpha=0.1, color=\"g\")\n",
    "    plt.plot(train_sizes, train_scores_mean, 'o-', color=\"r\",\n",
    "             label=\"Training score\")\n",
    "    plt.plot(train_sizes, test_scores_mean, 'o-', color=\"g\",\n",
    "             label=\"Cross-validation score\")\n",
    "\n",
    "    plt.title(f\"Learning curves ({type(estimator).__name__})\")\n",
    "    plt.xlabel(\"Training examples\")\n",
    "    plt.ylabel(\"Score\")     \n",
    "    plt.legend(loc=\"best\")\n",
    "    plt.grid()\n",
    "    plt.show()"
   ]
  },
  {
   "cell_type": "code",
   "execution_count": 50,
   "metadata": {},
   "outputs": [],
   "source": [
    "def show_feature_importances(feature_names, feature_importances, get_top=None):\n",
    "    feature_importances = pd.DataFrame({'feature': feature_names, 'importance': feature_importances})\n",
    "    feature_importances = feature_importances.sort_values('importance', ascending=False)\n",
    "       \n",
    "    plt.figure(figsize = (10, len(feature_importances) * 0.355))\n",
    "    \n",
    "    sns.barplot(feature_importances['importance'], feature_importances['feature'])\n",
    "    \n",
    "    plt.xlabel('Importance')\n",
    "    plt.title('Importance of features')\n",
    "    plt.show()\n",
    "    \n",
    "    if get_top is not None:\n",
    "        return feature_importances['feature'][:get_top].tolist()"
   ]
  },
  {
   "cell_type": "code",
   "execution_count": 51,
   "metadata": {},
   "outputs": [
    {
     "name": "stdout",
     "output_type": "stream",
     "text": [
      "TRAIN\n",
      "\n",
      "              precision    recall  f1-score   support\n",
      "\n",
      "           0       0.79      0.88      0.83      3771\n",
      "           1       0.82      0.70      0.76      2958\n",
      "\n",
      "   micro avg       0.80      0.80      0.80      6729\n",
      "   macro avg       0.81      0.79      0.79      6729\n",
      "weighted avg       0.80      0.80      0.80      6729\n",
      "\n",
      "TEST\n",
      "\n",
      "              precision    recall  f1-score   support\n",
      "\n",
      "           0       0.81      0.83      0.82      1616\n",
      "           1       0.54      0.50      0.52       634\n",
      "\n",
      "   micro avg       0.74      0.74      0.74      2250\n",
      "   macro avg       0.67      0.67      0.67      2250\n",
      "weighted avg       0.73      0.74      0.73      2250\n",
      "\n",
      "CONFUSION MATRIX\n",
      "\n",
      "col_0              0    1\n",
      "Credit Default           \n",
      "0               1339  277\n",
      "1                314  320\n"
     ]
    }
   ],
   "source": [
    "final_model = catb.CatBoostClassifier(n_estimators=n_estimators, max_depth=max_depth,\n",
    "                                      silent=True, random_state=21, cat_features=CAT_FEATURE_NAMES)\n",
    "final_model.fit(X_train, y_train)\n",
    "\n",
    "y_train_pred = final_model.predict(X_train)\n",
    "y_test_pred = final_model.predict(X_test)\n",
    "y_test_pred_probs = final_model.predict_proba(X_test)\n",
    "\n",
    "get_classification_report(y_train, y_train_pred, y_test, y_test_pred)"
   ]
  },
  {
   "cell_type": "markdown",
   "metadata": {},
   "source": [
    "### Снижение степени переобучения<a class=\"anchor\" id=\"lowering_overfitting\"></a>"
   ]
  },
  {
   "cell_type": "code",
   "execution_count": 52,
   "metadata": {},
   "outputs": [
    {
     "name": "stdout",
     "output_type": "stream",
     "text": [
      "TRAIN\n",
      "\n",
      "              precision    recall  f1-score   support\n",
      "\n",
      "           0       0.68      0.86      0.76      3771\n",
      "           1       0.74      0.49      0.59      2958\n",
      "\n",
      "   micro avg       0.70      0.70      0.70      6729\n",
      "   macro avg       0.71      0.68      0.68      6729\n",
      "weighted avg       0.71      0.70      0.69      6729\n",
      "\n",
      "TEST\n",
      "\n",
      "              precision    recall  f1-score   support\n",
      "\n",
      "           0       0.81      0.86      0.83      1616\n",
      "           1       0.57      0.49      0.53       634\n",
      "\n",
      "   micro avg       0.75      0.75      0.75      2250\n",
      "   macro avg       0.69      0.67      0.68      2250\n",
      "weighted avg       0.74      0.75      0.75      2250\n",
      "\n",
      "CONFUSION MATRIX\n",
      "\n",
      "col_0              0    1\n",
      "Credit Default           \n",
      "0               1388  228\n",
      "1                326  308\n"
     ]
    }
   ],
   "source": [
    "final_model = catb.CatBoostClassifier(n_estimators=n_estimators, max_depth=max_depth,\n",
    "                                      l2_leaf_reg=10,\n",
    "                                      silent=True, random_state=21, cat_features=CAT_FEATURE_NAMES)\n",
    "final_model.fit(X_train, y_train)\n",
    "\n",
    "y_train_pred = final_model.predict(X_train)\n",
    "y_test_pred = final_model.predict(X_test)\n",
    "y_test_pred_probs = final_model.predict_proba(X_test)\n",
    "\n",
    "get_classification_report(y_train, y_train_pred, y_test, y_test_pred)"
   ]
  },
  {
   "cell_type": "markdown",
   "metadata": {},
   "source": [
    "### Важность признаков<a class=\"anchor\" id=\"feature_importances\"></a>"
   ]
  },
  {
   "cell_type": "code",
   "execution_count": 53,
   "metadata": {},
   "outputs": [
    {
     "data": {
      "image/png": "[encoded data removed]",
      "text/plain": [
       "<Figure size 720x408.96 with 1 Axes>"
      ]
     },
     "metadata": {},
     "output_type": "display_data"
    }
   ],
   "source": [
    "important_features_top = show_feature_importances(X_train.columns, final_model.feature_importances_, get_top=6)"
   ]
  },
  {
   "cell_type": "markdown",
   "metadata": {},
   "source": [
    "Для финальной модели будем использовать 6 наиболее значимых признаков. Обоснование:\n",
    "    \n",
    "1. Более простая и хорошо настроенная модель лучше, чем сложная и плохо настроенная;\n",
    "\n",
    "2. Это позволит снизить степень/вероятность переобучения;\n",
    "\n",
    "3. Экспериметы показали, что 6 признаков дают результат лучше, чем любое другое количество."
   ]
  },
  {
   "cell_type": "code",
   "execution_count": 54,
   "metadata": {},
   "outputs": [
    {
     "data": {
      "text/plain": [
       "['Credit Score',\n",
       " 'Current Loan Amount',\n",
       " 'Term',\n",
       " 'Annual Income',\n",
       " 'Maximum Open Credit',\n",
       " 'Current Credit Balance']"
      ]
     },
     "execution_count": 54,
     "metadata": {},
     "output_type": "execute_result"
    }
   ],
   "source": [
    "important_features_top"
   ]
  },
  {
   "cell_type": "markdown",
   "metadata": {},
   "source": [
    "### Подбор оптимального размера выборки, кривая обучения<a class=\"anchor\" id=\"learning_curve\"></a>"
   ]
  },
  {
   "cell_type": "code",
   "execution_count": 55,
   "metadata": {},
   "outputs": [],
   "source": [
    "final_model = catb.CatBoostClassifier(n_estimators=n_estimators, max_depth=max_depth,\n",
    "                                      silent=True, random_state=21, cat_features=CAT_FEATURE_NAMES)"
   ]
  },
  {
   "cell_type": "code",
   "execution_count": 56,
   "metadata": {},
   "outputs": [
    {
     "data": {
      "image/png": "[encoded data removed]",
      "text/plain": [
       "<Figure size 1080x576 with 1 Axes>"
      ]
     },
     "metadata": {},
     "output_type": "display_data"
    }
   ],
   "source": [
    "show_learning_curve_plot(final_model, X, y)"
   ]
  },
  {
   "cell_type": "markdown",
   "metadata": {},
   "source": [
    "### Выбор порога вероятности для определения класса<a class=\"anchor\" id=\"threshold_calibration\"></a>"
   ]
  },
  {
   "cell_type": "code",
   "execution_count": 57,
   "metadata": {},
   "outputs": [
    {
     "data": {
      "image/png": "[encoded data removed]",
      "text/plain": [
       "<Figure size 1080x360 with 2 Axes>"
      ]
     },
     "metadata": {},
     "output_type": "display_data"
    }
   ],
   "source": [
    "show_proba_calibration_plots(y_test_pred_probs[:, 1], y_test)"
   ]
  },
  {
   "cell_type": "markdown",
   "metadata": {},
   "source": [
    "### Обучение и оценка финальной модели"
   ]
  },
  {
   "cell_type": "code",
   "execution_count": 58,
   "metadata": {},
   "outputs": [],
   "source": [
    "new_cat_features_names = list(set(CAT_FEATURE_NAMES) & set(important_features_top))"
   ]
  },
  {
   "cell_type": "code",
   "execution_count": 59,
   "metadata": {},
   "outputs": [
    {
     "name": "stdout",
     "output_type": "stream",
     "text": [
      "TRAIN\n",
      "\n",
      "              precision    recall  f1-score   support\n",
      "\n",
      "           0       0.78      0.90      0.83      3771\n",
      "           1       0.84      0.68      0.75      2958\n",
      "\n",
      "   micro avg       0.80      0.80      0.80      6729\n",
      "   macro avg       0.81      0.79      0.79      6729\n",
      "weighted avg       0.80      0.80      0.80      6729\n",
      "\n",
      "TEST\n",
      "\n",
      "              precision    recall  f1-score   support\n",
      "\n",
      "           0       0.82      0.84      0.83      1616\n",
      "           1       0.56      0.53      0.55       634\n",
      "\n",
      "   micro avg       0.75      0.75      0.75      2250\n",
      "   macro avg       0.69      0.68      0.69      2250\n",
      "weighted avg       0.75      0.75      0.75      2250\n",
      "\n",
      "CONFUSION MATRIX\n",
      "\n",
      "col_0              0    1\n",
      "Credit Default           \n",
      "0               1354  262\n",
      "1                297  337\n"
     ]
    }
   ],
   "source": [
    "final_model = catb.CatBoostClassifier(best_model_min_trees=35, \n",
    "                                      loss_function ='Logloss',\n",
    "                                      od_wait=2,\n",
    "                                      learning_rate=0.02,\n",
    "                                      n_estimators=750, \n",
    "                                      max_depth=11, \n",
    "                                      l2_leaf_reg=95,\n",
    "                                      silent=True, \n",
    "                                      random_state=162,\n",
    "                                      cat_features=new_cat_features_names)\n",
    "final_model.fit(X_train[important_features_top], y_train)\n",
    "\n",
    "y_train_pred = final_model.predict(X_train[important_features_top])\n",
    "y_test_pred = final_model.predict(X_test[important_features_top])\n",
    "y_test_pred_probs = final_model.predict_proba(X_test[important_features_top])\n",
    "\n",
    "get_classification_report(y_train, y_train_pred, y_test, y_test_pred)"
   ]
  },
  {
   "cell_type": "markdown",
   "metadata": {},
   "source": [
    "### Сохранение финальной модели<a class=\"anchor\" id=\"final_model_saving\"></a>"
   ]
  },
  {
   "cell_type": "code",
   "execution_count": 60,
   "metadata": {},
   "outputs": [],
   "source": [
    "with open(MODEL_FILE_PATH, 'wb') as file:\n",
    "    pickle.dump(final_model, file)"
   ]
  },
  {
   "cell_type": "markdown",
   "metadata": {},
   "source": [
    "## Прогнозирование на тестовом датасете"
   ]
  },
  {
   "cell_type": "markdown",
   "metadata": {},
   "source": [
    "### Выполнить для тестового датасета те же этапы обработки и построения признаков"
   ]
  },
  {
   "cell_type": "markdown",
   "metadata": {},
   "source": [
    "Обработаем данные в тестовом датасете"
   ]
  },
  {
   "cell_type": "code",
   "execution_count": 61,
   "metadata": {},
   "outputs": [],
   "source": [
    "df_test = convert_types(df_test)\n",
    "df_test = process_Annual_Income(df_test)"
   ]
  },
  {
   "cell_type": "markdown",
   "metadata": {},
   "source": [
    "Стандартизируем значения в df_test"
   ]
  },
  {
   "cell_type": "code",
   "execution_count": 62,
   "metadata": {},
   "outputs": [],
   "source": [
    "scaler = StandardScaler()\n",
    "\n",
    "df_norm = df_test.copy()\n",
    "df_norm[NUM_FEATURE_NAMES] = scaler.fit_transform(df_norm[NUM_FEATURE_NAMES])\n",
    "\n",
    "df_test = df_norm.copy()"
   ]
  },
  {
   "cell_type": "markdown",
   "metadata": {},
   "source": [
    "Приведение типов для модели CatBoost"
   ]
  },
  {
   "cell_type": "code",
   "execution_count": 63,
   "metadata": {},
   "outputs": [],
   "source": [
    "df_test = types_for_CatBoost(CAT_FEATURE_NAMES, df_test)"
   ]
  },
  {
   "cell_type": "markdown",
   "metadata": {},
   "source": [
    "### Спрогнозировать целевую переменную, используя модель, построенную на обучающем датасете.\n",
    "### Прогнозы должны быть для всех примеров из тестового датасета (для всех строк)\n",
    "### Соблюдать исходный порядок примеров из тестового датасета"
   ]
  },
  {
   "cell_type": "code",
   "execution_count": 64,
   "metadata": {},
   "outputs": [],
   "source": [
    "df_test[TARGET_NAME] = final_model.predict(df_test[important_features_top])"
   ]
  },
  {
   "cell_type": "markdown",
   "metadata": {},
   "source": [
    "### Сохранение результата обучения"
   ]
  },
  {
   "cell_type": "code",
   "execution_count": 65,
   "metadata": {},
   "outputs": [],
   "source": [
    "#Сохраним результат в файл\n",
    "df_test.loc[:, [TARGET_NAME]].to_csv('TSataev_predictions.csv', index=None)"
   ]
  },
  {
   "cell_type": "code",
   "execution_count": null,
   "metadata": {},
   "outputs": [],
   "source": []
  }
 ],
 "metadata": {
  "kernelspec": {
   "display_name": "Python 3",
   "language": "python",
   "name": "python3"
  },
  "language_info": {
   "codemirror_mode": {
    "name": "ipython",
    "version": 3
   },
   "file_extension": ".py",
   "mimetype": "text/x-python",
   "name": "python",
   "nbconvert_exporter": "python",
   "pygments_lexer": "ipython3",
   "version": "3.7.3"
  }
 },
 "nbformat": 4,
 "nbformat_minor": 2
}
